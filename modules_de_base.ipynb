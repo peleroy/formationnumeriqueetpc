{
 "cells": [
  {
   "cell_type": "markdown",
   "metadata": {
    "cell_id": "3599f9d4-6666-4455-8015-de79af406f30",
    "deepnote_cell_type": "markdown"
   },
   "source": [
    "# Modules Python de base\n",
    "\n",
    "👋 Ceci est un essai :)"
   ]
  },
  {
   "cell_type": "markdown",
   "metadata": {
    "cell_id": "00001-3e946f1a-fd43-4d13-a48b-112a3fb4c9c7",
    "deepnote_cell_type": "markdown",
    "tags": []
   },
   "source": [
    "## Catégorie \"Module basique\"\n",
    "# Tracer un histogramme\n",
    "Exemple : tracer l'histogramme d'une série de mesures"
   ]
  },
  {
   "cell_type": "code",
   "execution_count": null,
   "metadata": {
    "cell_id": "00002-8c5976c0-9ea0-4f67-8274-8709d91b69ea",
    "deepnote_cell_type": "code",
    "deepnote_to_be_reexecuted": false,
    "execution_millis": 1054,
    "execution_start": 1619794388463,
    "source_hash": "bc4e0eb4",
    "tags": []
   },
   "outputs": [
    {
     "data": {
      "image/png": "[encoded data removed]",
      "text/plain": [
       "<Figure size 432x288 with 1 Axes>"
      ]
     },
     "metadata": {
      "image/png": {
       "height": 264,
       "width": 372
      },
      "needs_background": "light"
     },
     "output_type": "display_data"
    }
   ],
   "source": [
    "from matplotlib import pyplot as plt\n",
    "import numpy as np\n",
    "\n",
    "# La série de mesures\n",
    "x=[7.2,7.3,7.0,6.9,7.1,7.1,7.4,7.1,7.3,7.1,7.2]           # Les mesures sont dans une liste\n",
    "\n",
    "# Tracé du graphique histogramme\n",
    "pas=0.1             # définit la largeur d'un intervalle de l'histogramme\n",
    "amplitude=max(x)-min(x)         # Calcule l'amplitude de la série\n",
    "inter=np.linspace(min(x)-(pas/2),max(x)+(pas/2),round(amplitude/pas)+2) # Génère les limites des intervalles\n",
    "plt.hist(x,bins=inter,rwidth=0.8)              # trace l'histogramme des mesures\n",
    "\n",
    "# Remarque : si on appelle \"pas\" la largeur d'un intervalle de l'histogramme :\n",
    "#       le nombre d'intervalle est (amplitude/pas)+1 \n",
    "#       le nombre de limites des intersalles est (amplitude/pas)+2\n",
    "\n",
    "# Informations sur le graphique\n",
    "plt.title('Répartition des mesures')\n",
    "\n",
    "# Montrer le graphique\n",
    "plt.show()"
   ]
  },
  {
   "cell_type": "markdown",
   "metadata": {
    "cell_id": "00003-c1c4904e-0b5a-45ec-bf1a-8b1194620d59",
    "deepnote_cell_type": "markdown",
    "tags": []
   },
   "source": [
    "## Catégorie \"Module basique\"\n",
    "# Boucles for"
   ]
  },
  {
   "cell_type": "code",
   "execution_count": null,
   "metadata": {
    "cell_id": "00004-493d0a29-24bd-4c10-94b5-765409f16198",
    "deepnote_cell_type": "code",
    "deepnote_to_be_reexecuted": false,
    "execution_millis": 14,
    "execution_start": 1619794512438,
    "source_hash": "f2e16511",
    "tags": []
   },
   "outputs": [
    {
     "name": "stdout",
     "output_type": "stream",
     "text": [
      "La série de mesures est:\n",
      "[0.1095, 0.1075, 0.102, 0.103, 0.101, 0.1, 0.096, 0.095, 0.09, 0.0925, 0.099]\n",
      "L'incertitude sur chaque mesure est : s_n-1(x) =  0.005974186897889042\n",
      "La moyenne des mesures est : x_moy =  0.09959090909090908\n",
      "L'incertitude sur la moyenne est : u(x) =  0.0018012851243413837\n"
     ]
    }
   ],
   "source": [
    "import numpy as np\n",
    "\n",
    "# initialisation des variables\n",
    "somme=0\n",
    "ecart=0\n",
    "\n",
    "# La série de mesures\n",
    "x=[0.1095,0.1075,0.1020,0.1030,0.1010,0.1000,0.096,0.095,0.090,0.0925,0.0990]     # Les mesures sont dans une liste\n",
    "N=len(x)                        # Calcule le nombre de valeur de la liste\n",
    "\n",
    "# Boucle for (ne pas oublier le :\n",
    "for i in range(0,N):            # range crée une liste de N valeurs entières entre 0 et N-1\n",
    "    somme=somme+x[i]            # à chaque passage, on ajoute x[i] dans la variable somme\n",
    "\n",
    "moyenne=somme/N                         # une fois la boucle terminée, on calcule de la moyenne\n",
    "\n",
    "# Boucle for\n",
    "for i in range(0,N):                # range crée une liste de N valeurs entières entre 0 et N-1\n",
    "    ecart += (x[i]-moyenne)**2      # \"ecart+=(x[i]-moyenne)**2\" est équivalent à \"ecart=ecart+(x[i]-moyenne)**2\"\n",
    "\n",
    "ecart_type=np.sqrt(ecart/(N-1))         # une fois la boucle terminée, on calcule l'écart type N-1\n",
    "incertitude=ecart_type/np.sqrt(N)       # Calcule l'incertitude sur la moyenne\n",
    "\n",
    "# Affichage des résultats\n",
    "print('La série de mesures est:')\n",
    "print(x)\n",
    "print('L\\'incertitude sur chaque mesure est : s_n-1(x) = ',ecart_type)\n",
    "print('La moyenne des mesures est : x_moy = ',moyenne)\n",
    "print('L\\'incertitude sur la moyenne est : u(x) = ',incertitude)"
   ]
  },
  {
   "cell_type": "markdown",
   "metadata": {
    "cell_id": "00005-d35c2e78-393b-431c-9ead-c9b976236a13",
    "deepnote_cell_type": "markdown",
    "tags": []
   },
   "source": [
    "## Catégorie \"Module basique\"\n",
    "# Python et conditions"
   ]
  },
  {
   "cell_type": "code",
   "execution_count": null,
   "metadata": {
    "cell_id": "00006-8a810304-ae63-4b2d-9ea2-b366a60431d6",
    "deepnote_cell_type": "code",
    "deepnote_to_be_reexecuted": false,
    "execution_millis": 14338,
    "execution_start": 1619794771997,
    "source_hash": "76c5c033",
    "tags": []
   },
   "outputs": [
    {
     "name": "stdout",
     "output_type": "stream",
     "text": [
      "Propagation du son dans l'air\n",
      "Calcul de distance ou calcul de durée ? \n",
      "     - pour distance taper 1.\n",
      "     - pour durée taper 2.\n",
      "La distance parcourue est :  255.0\n"
     ]
    }
   ],
   "source": [
    "print('Propagation du son dans l\\'air')\n",
    "\n",
    "# Initialisation dds variables\n",
    "vitesse=340\n",
    "reponse=''\n",
    "\n",
    "# Question posée\n",
    "print('Calcul de distance ou calcul de durée ? ')\n",
    "print('     - pour distance taper 1.')\n",
    "print('     - pour durée taper 2.')\n",
    "reponse=int(input('Votre choix ?  '))\n",
    "\n",
    "# Condition\n",
    "if reponse==1 :\n",
    "    duree=float(input('Quelle est la durée en s ?  '))\n",
    "    distance=vitesse*duree\n",
    "    print('La distance parcourue est : ',distance)\n",
    "elif reponse==2 :\n",
    "    distance=float(input('Quelle est la distance en m ?  '))\n",
    "    duree=distance/vitesse\n",
    "    print('La durée de propagation est : ',duree)\n",
    "else :\n",
    "    print('Cette réponse ne fait pas partie des choix')"
   ]
  },
  {
   "cell_type": "markdown",
   "metadata": {
    "cell_id": "00002-0df66c94-ea46-4ad3-9cc3-aa0dc527689c",
    "deepnote_cell_type": "markdown",
    "tags": []
   },
   "source": [
    "## Catégorie \"Module basique\"\n",
    "# Tracer un graphique \"Nuage de points\"\n"
   ]
  },
  {
   "cell_type": "code",
   "execution_count": null,
   "metadata": {
    "cell_id": "00003-865e4ea9-c197-4244-9784-2c75f7d95c33",
    "deepnote_cell_type": "code",
    "deepnote_to_be_reexecuted": false,
    "execution_millis": 651,
    "execution_start": 1619794389525,
    "output_cleared": false,
    "source_hash": "31ce96ab",
    "tags": []
   },
   "outputs": [
    {
     "data": {
      "image/png": "[encoded data removed]",
      "text/plain": [
       "<Figure size 432x288 with 1 Axes>"
      ]
     },
     "metadata": {
      "image/png": {
       "height": 278,
       "width": 382
      },
      "needs_background": "light"
     },
     "output_type": "display_data"
    },
    {
     "data": {
      "image/png": "[encoded data removed]",
      "text/plain": [
       "<Figure size 432x288 with 1 Axes>"
      ]
     },
     "metadata": {
      "image/png": {
       "height": 262,
       "width": 382
      },
      "needs_background": "light"
     },
     "output_type": "display_data"
    }
   ],
   "source": [
    "from matplotlib import pyplot as plt\n",
    "\n",
    "# Les deux séries de valeurs\n",
    "x=[1,2,3,4,5]           # Les abscisses et les ordonnées sont dans des listes\n",
    "y=[1.5,3,4.2,6.3,7.5]   # les nombre de valeurs sont identiques\n",
    "z= [2,4,6,8,10]          \n",
    "\n",
    "# Tracé du graphique\n",
    "#plt.figure('mon beau graphique')        # Option:on peut donner un nom à la fenêtre graphique\n",
    "plt.plot(x,y,'r+',x,z,'b*')             # trace les points correspondant aux listes x et y\n",
    "\n",
    "# Informations sur le graphique\n",
    "plt.title('y et z en fonction de x')    #Titre du graphiqur\n",
    "plt.xlabel('Liste x')           # légende de l'axe des absices\n",
    "plt.ylabel('Ordonnées')        # légende de l'axe des ordonnées\n",
    "plt.legend(('z','y'))           # Légende dans le graphique\n",
    "plt.xlim(0)                 #imposer l'origine\n",
    "plt.ylim(0)\n",
    "\n",
    "# Possibilité d'ouvrir une deuxième fenêtre graphique\n",
    "plt.figure()        # Ouverture d'une nouvelle fenêtre graphique\n",
    "plt.plot(y,z,'g-',label='z=f(y)')   # trace les points correspondant aux listes x et y avec légende \"z=f(y)\"\n",
    "plt.xlabel('liste y')           # légende de l'axe des absices\n",
    "plt.ylabel('liste z')           # légende de l'axe des ordonnées\n",
    "plt.legend()                    # Afficher la légende dans le graphique\n",
    "\n",
    "# Montrer le graphique\n",
    "plt.show()"
   ]
  },
  {
   "cell_type": "markdown",
   "metadata": {
    "cell_id": "00002-deca5c9b-1842-4191-aaf8-657b2b6e5b0d",
    "deepnote_cell_type": "markdown",
    "tags": []
   },
   "source": [
    "## Catégorie \"Module basique\"\n",
    "# Régression linéaire d'un nuage de points"
   ]
  },
  {
   "cell_type": "code",
   "execution_count": null,
   "metadata": {
    "cell_id": "0b9b7a2b-9e8b-458b-90e1-e03933d2c995",
    "deepnote_cell_type": "code",
    "deepnote_to_be_reexecuted": false,
    "execution_millis": 1765,
    "execution_start": 1619794390192,
    "output_cleared": false,
    "source_hash": "422d24f5",
    "tags": []
   },
   "outputs": [
    {
     "name": "stdout",
     "output_type": "stream",
     "text": [
      "Coefficient directeur : a = 1.5300000000000002\n",
      "Ordonnée à l'origine : b = -0.09000000000000075\n",
      "Coefficient de corélation : r =  0.9963674480848186\n"
     ]
    },
    {
     "data": {
      "image/png": "[encoded data removed]",
      "text/plain": [
       "<Figure size 432x288 with 1 Axes>"
      ]
     },
     "metadata": {
      "image/png": {
       "height": 278,
       "width": 376
      },
      "needs_background": "light"
     },
     "output_type": "display_data"
    }
   ],
   "source": [
    "from matplotlib import pyplot as plt\n",
    "from scipy.stats import linregress\n",
    "import numpy as np\n",
    "\n",
    "# Les deux séries de valeurs\n",
    "x=[1,2,3,4,5]           # Les abscisses et les ordonnées sont dans des listes\n",
    "y=[1.5,3,4.2,6.3,7.5]   # le nombre de valeurs dans les listes est identique\n",
    "\n",
    "# détermination des coefficients      \n",
    "a,b,ro,_,_=linregress(x,y)\n",
    "\n",
    "#Affichage des résultats\n",
    "print('Coefficient directeur : a =',a)\n",
    "print('Ordonnée à l\\'origine : b =',b)\n",
    "print('Coefficient de corélation : r = ',ro)\n",
    "\n",
    "# Abscisses et ordonnées du modèle\n",
    "x_modele=np.linspace(min(x),max(x),101)     # permet de créer une liste de 101 valeurs d'abscisses\n",
    "y_modele=[a*i+b for i in x_modele]          # calcule l'ordonnée en appliquant le modèle\n",
    "\n",
    "# Tracer le graphique\n",
    "plt.plot(x,y,'r+')              # les couples de valeur sont représentés par des croix rouges\n",
    "plt.plot(x_modele,y_modele)     # par défaut les points sont liés par un segment de droite bleu\n",
    "\n",
    "# Informations sur le graphique\n",
    "plt.title('y en fonction de x') \n",
    "plt.xlabel('Liste x')        # légende de l'axe des abscisses\n",
    "plt.ylabel('liste y')        # légende de l'axe des ordonnées\n",
    "plt.legend(('y','modèle'))\n",
    "\n",
    "# Montrer le graphique\n",
    "plt.show()"
   ]
  },
  {
   "cell_type": "code",
   "execution_count": null,
   "metadata": {
    "cell_id": "00003-681d0d25-075a-47a4-8838-92897c171f94",
    "deepnote_cell_type": "code",
    "deepnote_to_be_reexecuted": false,
    "execution_millis": 277,
    "execution_start": 1619794391952,
    "source_hash": "9983c4a9",
    "tags": []
   },
   "outputs": [
    {
     "ename": "TypeError",
     "evalue": "can't multiply sequence by non-int of type 'list'",
     "output_type": "error",
     "traceback": [
      "\u001b[0;31m---------------------------------------------------------------------------\u001b[0m",
      "\u001b[0;31mTypeError\u001b[0m                                 Traceback (most recent call last)",
      "\u001b[0;32m<ipython-input-4-563b15a822c0>\u001b[0m in \u001b[0;36m<module>\u001b[0;34m\u001b[0m\n\u001b[1;32m     14\u001b[0m \u001b[0;34m\u001b[0m\u001b[0m\n\u001b[1;32m     15\u001b[0m \u001b[0;31m# Représentation graphique\u001b[0m\u001b[0;34m\u001b[0m\u001b[0;34m\u001b[0m\u001b[0;34m\u001b[0m\u001b[0m\n\u001b[0;32m---> 16\u001b[0;31m \u001b[0mAmodele\u001b[0m\u001b[0;34m=\u001b[0m \u001b[0mco_dir\u001b[0m \u001b[0;34m*\u001b[0m \u001b[0mC\u001b[0m\u001b[0;34m\u001b[0m\u001b[0;34m\u001b[0m\u001b[0m\n\u001b[0m\u001b[1;32m     17\u001b[0m \u001b[0;34m\u001b[0m\u001b[0m\n\u001b[1;32m     18\u001b[0m \u001b[0mplt\u001b[0m\u001b[0;34m.\u001b[0m\u001b[0mplot\u001b[0m\u001b[0;34m(\u001b[0m\u001b[0mC\u001b[0m\u001b[0;34m,\u001b[0m\u001b[0mA\u001b[0m\u001b[0;34m,\u001b[0m\u001b[0;34m'rx'\u001b[0m\u001b[0;34m,\u001b[0m\u001b[0mC\u001b[0m\u001b[0;34m,\u001b[0m\u001b[0mAmodele\u001b[0m\u001b[0;34m,\u001b[0m\u001b[0;34m'b-'\u001b[0m\u001b[0;34m)\u001b[0m\u001b[0;34m\u001b[0m\u001b[0;34m\u001b[0m\u001b[0m\n",
      "\u001b[0;31mTypeError\u001b[0m: can't multiply sequence by non-int of type 'list'"
     ]
    }
   ],
   "source": [
    "from scipy.stats import * # Pour la fonction 'linregress'\n",
    "import scipy.optimize as so # Pour la fonction 'linpace'\n",
    "\n",
    "def fct(x,k):\n",
    "        return k*x\n",
    "\n",
    "C=[0,1,2]\n",
    "A=[0.1,0.2,0.3]\n",
    "\n",
    "co_dir = so.curve_fit(fct,C,A)\n",
    "\n",
    "droite = linregress(C,A)\n",
    "\n",
    "\n",
    "# Représentation graphique\n",
    "Amodele= co_dir * C\n",
    "\n",
    "plt.plot(C,A,'rx',C,Amodele,'b-')\n",
    "plt.title(\"Représentation de l'absorbance de la solutin en fonctin de la concentration \")\n",
    "plt.xlabel('C (mol/L) ')\n",
    "plt.ylabel('A')\n",
    "plt.legend(('Points expérimentaux','modèle'))\n",
    "plt.show()"
   ]
  },
  {
   "cell_type": "markdown",
   "metadata": {
    "cell_id": "00007-0a00b8cf-4870-4bd8-b69d-ff910098f2ae",
    "deepnote_cell_type": "markdown",
    "tags": []
   },
   "source": [
    "On a récupéré les mesures au cours d'un TP de chimie de l'absorbance d'une solution pour différentes concentrations.\n",
    "\n",
    "| Absorbance    | 0,20 | 0,60  | 0,68 | 0,83 | 1,10 |\n",
    "| --------------|:----:| -----:|-----:|-----:|-----:|\n",
    "| C (mol/L)     | 1,2*10<sup>-4</sup> |  3,6*10<sup>-4</sup> |4,1*10<sup>-4</sup> |5,0*10<sup>-4</sup> |6,5*10<sup>-4</sup> |\n",
    "\n",
    "\n",
    "## OBJECTIF : Essai"
   ]
  },
  {
   "cell_type": "markdown",
   "metadata": {
    "cell_id": "00008-7c122cf5-2961-4841-9ebd-b6d36e894ee8",
    "deepnote_cell_type": "markdown",
    "tags": []
   },
   "source": [
    "## Catégorie \"Module basique\"\n",
    "# Vecteurs en mécanique"
   ]
  },
  {
   "cell_type": "code",
   "execution_count": null,
   "metadata": {
    "cell_id": "00009-5e27a784-04a9-4cbf-9139-0acc2462e51c",
    "deepnote_cell_type": "code",
    "deepnote_to_be_reexecuted": true,
    "execution_millis": 262,
    "source_hash": "29a0b3",
    "tags": []
   },
   "outputs": [
    {
     "data": {
      "image/png": "[encoded data removed]",
      "text/plain": [
       "<Figure size 432x288 with 1 Axes>"
      ]
     },
     "metadata": {
      "image/png": {
       "height": 248,
       "width": 372
      },
      "needs_background": "light"
     },
     "output_type": "display_data"
    }
   ],
   "source": [
    "from matplotlib import pyplot as plt\n",
    "\n",
    "# coordonnées de M toutes les dt=0.040 s : M1, M2, M3...\n",
    "dt=0.04\n",
    "x=[0.1918, 0.2635, 0.3353, 0.4112, 0.4872, 0.5589, 0.6307, 0.6982, 0.7700, 0.8375, 0.9093, 0.9768, 1.0528, 1.1161, 1.1794, 1.2469, 1.3144, 1.3820, 1.4495, 1.5170, 1.5846, 1.6521, 1.7154, 1.7745]\n",
    "y=[0.3526, 0.5381, 0.7025, 0.8458, 0.9723, 1.0776, 1.1704, 1.2420, 1.3011, 1.3390, 1.3643, 1.3769, 1.3727, 1.3474, 1.3137, 1.2631, 1.1957, 1.1156, 1.0186, 0.9006, 0.7741, 0.6308, 0.4707, 0.2978]\n",
    "\n",
    "# Représentation de la trajectoire\n",
    "plt.plot(x,y,'ro')\n",
    "\n",
    "# Représentation du vecteur déplacement M2M3\n",
    "dx=x[2]-x[1]            # Calcule des coordonnées de M2M3\n",
    "dy=y[2]-y[1]            # l'indice de la première valeur d'une liste est 0 - M1 (x[0],y[0])\n",
    "plt.quiver(x[1],y[1],dx,dy,scale=1,scale_units='xy')       # L'échelle (scale) de représentation est celle des axes\n",
    "\n",
    "# Représentation du vecteur vitesse v10=M10M11/dt\n",
    "vx=(x[10]-x[9])/dt            # Calcule des coordonnées de v10\n",
    "vy=(y[10]-y[9])/dt\n",
    "plt.quiver(x[9],y[9],vx,vy,scale=10,color='b')      # L'échelle de représentation est 1/10ème\n",
    "\n",
    "# Représentation du vecteur variation de vitesse dv18=v19-v18\n",
    "dvx=(((x[19]-x[18])/dt)-(x[18]-x[17])/dt)            # Calcule des coordonnées de dv18\n",
    "dvy=(((y[19]-y[18])/dt)-(y[18]-y[17])/dt)\n",
    "plt.quiver(x[17],y[17],dvx,dvy,scale=5,color='g',width=0.002)       # On peut ajuster l'épaisseur (width)\n",
    "\n",
    "# Représentation du vecteur accélération a5 = dv5/dt\n",
    "ax=(((x[6]-x[5])/dt)-(x[5]-x[4])/dt)/dt              # Calcule des coordonnées de a5\n",
    "ay=(((y[6]-y[5])/dt)-(y[5]-y[4])/dt)/dt\n",
    "plt.quiver(x[4],y[4],ax,ay,scale=50,color='c',width=0.005)\n",
    "\n",
    "# Repère orthonormé\n",
    "plt.axis('equal')\n",
    "\n",
    "# Montrer le graphique\n",
    "plt.show()"
   ]
  },
  {
   "cell_type": "markdown",
   "metadata": {
    "cell_id": "00015-461914ac-571b-4899-8930-0b5c923741c1",
    "deepnote_cell_type": "markdown",
    "tags": []
   },
   "source": [
    "## Catégorie \"Module basique\"\n",
    "# Lecture d'un fichier csv\n",
    "J'ai un soucis... Où mettre le fichier csv pour que ce notebook aille le chercher ?"
   ]
  },
  {
   "cell_type": "code",
   "execution_count": null,
   "metadata": {
    "cell_id": "00016-5a0c2ee6-cefb-4f5e-b56e-9c1ec770c95e",
    "deepnote_cell_type": "code",
    "deepnote_to_be_reexecuted": false,
    "execution_millis": 11,
    "execution_start": 1619795377997,
    "source_hash": "dde27473",
    "tags": []
   },
   "outputs": [
    {
     "ename": "FileNotFoundError",
     "evalue": "[Errno 2] No such file or directory: 'balle_tennis_lancee.csv'",
     "output_type": "error",
     "traceback": [
      "\u001b[0;31m---------------------------------------------------------------------------\u001b[0m",
      "\u001b[0;31mFileNotFoundError\u001b[0m                         Traceback (most recent call last)",
      "\u001b[0;32m<ipython-input-8-21b1e306fb9b>\u001b[0m in \u001b[0;36m<module>\u001b[0;34m\u001b[0m\n\u001b[1;32m      9\u001b[0m                 \u001b[0;31m# de la deuxième à la dernière ligne, on trouve les valeurs des grandeurs séparés par des ;\u001b[0m\u001b[0;34m\u001b[0m\u001b[0;34m\u001b[0m\u001b[0;34m\u001b[0m\u001b[0m\n\u001b[1;32m     10\u001b[0m                 \u001b[0;31m# le contenu des lignes est considéré comme du texte\u001b[0m\u001b[0;34m\u001b[0m\u001b[0;34m\u001b[0m\u001b[0;34m\u001b[0m\u001b[0m\n\u001b[0;32m---> 11\u001b[0;31m \u001b[0;32mwith\u001b[0m \u001b[0mopen\u001b[0m\u001b[0;34m(\u001b[0m\u001b[0;34m'balle_tennis_lancee.csv'\u001b[0m\u001b[0;34m,\u001b[0m\u001b[0;34m'r'\u001b[0m\u001b[0;34m)\u001b[0m \u001b[0;32mas\u001b[0m \u001b[0mfichier\u001b[0m\u001b[0;34m:\u001b[0m        \u001b[0;31m# le contenu du csv est placé dans fichier\u001b[0m\u001b[0;34m\u001b[0m\u001b[0;34m\u001b[0m\u001b[0m\n\u001b[0m\u001b[1;32m     12\u001b[0m     \u001b[0mfichier\u001b[0m\u001b[0;34m.\u001b[0m\u001b[0mreadline\u001b[0m\u001b[0;34m(\u001b[0m\u001b[0;34m)\u001b[0m              \u001b[0;31m# on lit la première ligne de fichier (intitulés non utilisés)\u001b[0m\u001b[0;34m\u001b[0m\u001b[0;34m\u001b[0m\u001b[0m\n\u001b[1;32m     13\u001b[0m     \u001b[0;32mfor\u001b[0m \u001b[0mligne\u001b[0m \u001b[0;32min\u001b[0m \u001b[0mfichier\u001b[0m\u001b[0;34m:\u001b[0m               \u001b[0;31m# a chaque passage, ligne prend la valeur de la nouvelle ligne de fichier\u001b[0m\u001b[0;34m\u001b[0m\u001b[0;34m\u001b[0m\u001b[0m\n",
      "\u001b[0;31mFileNotFoundError\u001b[0m: [Errno 2] No such file or directory: 'balle_tennis_lancee.csv'"
     ]
    }
   ],
   "source": [
    "# Définition des listes\n",
    "t=[]     \n",
    "x=[]     \n",
    "y=[]\n",
    "\n",
    "# Lecture d'un fichier csv pour en faire une liste \n",
    "                # le ficher csv est dans le même dossier que le programme\n",
    "                # la première ligne du fichier contient les intitulés de chaque colonne ; ici \"t (s);x (m);y (m)\"\n",
    "                # de la deuxième à la dernière ligne, on trouve les valeurs des grandeurs séparés par des ;\n",
    "                # le contenu des lignes est considéré comme du texte\n",
    "with open('balle_tennis_lancee.csv','r') as fichier:        # le contenu du csv est placé dans fichier\n",
    "    fichier.readline()              # on lit la première ligne de fichier (intitulés non utilisés)\n",
    "    for ligne in fichier:               # a chaque passage, ligne prend la valeur de la nouvelle ligne de fichier\n",
    "        ligne_lue=ligne.split(';')      # ligne_lue est une liste des valeurs de la variable ligne séoarée par ';'\n",
    "        t.append(float(ligne_lue[0].replace(',','.')))  # append signifie qu'on ajoute à la liste t\n",
    "        x.append(float(ligne_lue[1].replace(',','.')))  # replace change la \",\" par un \".\"\n",
    "        y.append(float(ligne_lue[2].replace(',','.')))  # float transforme la chaine de caractère en nombre\n",
    "\n",
    "# Affichage des listes\n",
    "print('premières valeurs des lignes: t = ',t)\n",
    "print('deuxièmes valeurs des lignes: x = ',x)\n",
    "print('troisièmes valeurs des lignes: y = ',y)\n"
   ]
  },
  {
   "cell_type": "markdown",
   "metadata": {
    "cell_id": "00013-936ca98e-db9d-4eef-a284-c29f9747bb1f",
    "deepnote_cell_type": "markdown",
    "tags": []
   },
   "source": [
    "## Catégorie \"Module basique\"\n",
    "# Python et fonction"
   ]
  },
  {
   "cell_type": "code",
   "execution_count": null,
   "metadata": {
    "cell_id": "00014-e22e058c-0632-47c1-ade4-09b9300616d9",
    "deepnote_cell_type": "code",
    "deepnote_to_be_reexecuted": true,
    "execution_millis": 33,
    "execution_start": 1619794202900,
    "source_hash": "dd1a18b4",
    "tags": []
   },
   "outputs": [
    {
     "name": "stdout",
     "output_type": "stream",
     "text": [
      "La moyenne des mesures est : x_moy =  0.09959090909090908\n",
      "L'incertitude sur la moyenne est : u(x) =  0.0018012851243413837\n"
     ]
    }
   ],
   "source": [
    "import numpy as np\n",
    "\n",
    "def moy_incert(x):\n",
    "    # Retourne la valeur moyenne d'une mesure et et son incertitude\n",
    "    somme=0\n",
    "    ecart=0\n",
    "    N=len(x)                            # Calcule le nombre de valeur de la liste\n",
    "    for i in range(0,N):                # boucle de calcul de la somme des valeurs\n",
    "        somme+=x[i]\n",
    "    moyenne=somme/N                     # Calcule la moyenne\n",
    "    for i in range(0,N):                # Boucle de calcul de la somme des carrés des écarts\n",
    "        ecart += (x[i]-moyenne)**2\n",
    "    ecart_type=np.sqrt(ecart/(N-1))     # Calcule l'écart type N-1\n",
    "    incertitude=ecart_type/np.sqrt(N)   # Calcule l'incertitude sur la moyenne \n",
    "    return moyenne,incertitude          # Renvoie des parametres\n",
    "    \n",
    "# La série de mesures\n",
    "x=[0.1095,0.1075,0.1020,0.1030,0.1010,0.1000,0.096,0.095,0.090,0.0925,0.0990]     # Les mesures sont dans une liste\n",
    "\n",
    "\n",
    "# Utilisation de la fonction définie précédemment\n",
    "x_moy,u_x=moy_incert(x)\n",
    "\n",
    "# Affichage des résultats\n",
    "print('La moyenne des mesures est : x_moy = ',x_moy)\n",
    "print('L\\'incertitude sur la moyenne est : u(x) = ',u_x)\n"
   ]
  },
  {
   "cell_type": "markdown",
   "metadata": {
    "cell_id": "00010-7de697b3-3a38-4afe-85f9-24bde077a68c",
    "deepnote_cell_type": "markdown",
    "tags": []
   },
   "source": [
    "# Mécanique et simulation\n",
    "## De l'avantage de la méthode i/i+1"
   ]
  },
  {
   "cell_type": "code",
   "execution_count": null,
   "metadata": {
    "cell_id": "00011-44722023-656e-44ad-b1eb-51c398296a58",
    "deepnote_cell_type": "code",
    "deepnote_to_be_reexecuted": true,
    "execution_millis": 58601,
    "source_hash": "aa236f70",
    "tags": []
   },
   "outputs": [
    {
     "name": "stdout",
     "output_type": "stream",
     "text": [
      "Abscisse de la vitesse initiale en m/s (valeur expérimentale :  1.7925000000000002  m/s ?\n",
      "Ordonnée de la vitesse initiale en m/s (valeur expérimentale :  4.6375  m/s ?\n",
      "v0x= 1.7925000000000002  m/s\n",
      "v0y= 4.6375  m/s\n"
     ]
    },
    {
     "data": {
      "image/png": "[encoded data removed]",
      "text/plain": [
       "<Figure size 432x288 with 1 Axes>"
      ]
     },
     "metadata": {
      "image/png": {
       "height": 262,
       "width": 386
      },
      "needs_background": "light"
     },
     "output_type": "display_data"
    },
    {
     "name": "stdout",
     "output_type": "stream",
     "text": [
      "Donner une valeur de l'abscisse de la vitesse initiale en m/s (valeur expérimentale :  1.7925000000000002  m/s ?\n",
      "Donner une valeur de l'ordonnée de la vitesse initiale en m/s (valeur expérimentale :  4.6375  m/s ?\n",
      "v0x= 1.72  m/s\n",
      "v0y= 4.4  m/s\n"
     ]
    },
    {
     "data": {
      "image/png": "[encoded data removed]",
      "text/plain": [
       "<Figure size 432x288 with 1 Axes>"
      ]
     },
     "metadata": {
      "image/png": {
       "height": 262,
       "width": 386
      },
      "needs_background": "light"
     },
     "output_type": "display_data"
    },
    {
     "name": "stdout",
     "output_type": "stream",
     "text": [
      "Donner une valeur de l'abscisse de la vitesse initiale en m/s (valeur expérimentale :  1.7925000000000002  m/s ?\n",
      "Donner une valeur de l'ordonnée de la vitesse initiale en m/s (valeur expérimentale :  4.6375  m/s ?\n",
      "v0x= 1.72  m/s\n",
      "v0y= 4.48  m/s\n"
     ]
    },
    {
     "data": {
      "image/png": "[encoded data removed]",
      "text/plain": [
       "<Figure size 432x288 with 1 Axes>"
      ]
     },
     "metadata": {
      "image/png": {
       "height": 262,
       "width": 386
      },
      "needs_background": "light"
     },
     "output_type": "display_data"
    },
    {
     "name": "stdout",
     "output_type": "stream",
     "text": [
      "Valeurs de la vitesse initiale du modèle : vx= 1.72   ;  vy= 4.48\n",
      "Valeurs de la vitesse initiale expérimentale : vx= 1.7925000000000002   ;  vy= 4.6375\n"
     ]
    }
   ],
   "source": [
    "from matplotlib import pyplot as plt\n",
    "\n",
    "# coordonnées expérimentales de la balle de tennis toutes les dt=0.040 s : M1, M2, M3...\n",
    "dt=0.04\n",
    "x=[0.1918, 0.2635, 0.3353, 0.4112, 0.4872, 0.5589, 0.6307, 0.6982, 0.7700, 0.8375, 0.9093, 0.9768, 1.0528, 1.1161, 1.1794, 1.2469, 1.3144, 1.3820, 1.4495, 1.5170, 1.5846, 1.6521, 1.7154, 1.7745]\n",
    "y=[0.3526, 0.5381, 0.7025, 0.8458, 0.9723, 1.0776, 1.1704, 1.2420, 1.3011, 1.3390, 1.3643, 1.3769, 1.3727, 1.3474, 1.3137, 1.2631, 1.1957, 1.1156, 1.0186, 0.9006, 0.7741, 0.6308, 0.4707, 0.2978]\n",
    "\n",
    "# Conditions expérimentales\n",
    "gx=0                    # On modélise sans action mécanique de frottement\n",
    "gy=-9.81\n",
    "m=0.058\n",
    "\n",
    "# Conditions initiales\n",
    "v0x=(x[1]-x[0])/dt\n",
    "v0y=(y[1]-y[0])/dt\n",
    "rep='init'\n",
    "\n",
    "# Pas du modèle\n",
    "dt_modele=dt/100000             # le pas du modèle est 100 000 fois plus petit que le pas expérimentale\n",
    "N=int(dt/dt_modele)*(len(x))    # N sera le nombre de boucles à réaliser par le modèle\n",
    "\n",
    "# Action mécanique constante\n",
    "Fx=m*gx\n",
    "Fy=m*gy\n",
    "\n",
    "# Variation de vitesse constante du modèle (loi de Newton)\n",
    "dvx=Fx/m*dt_modele\n",
    "dvy=Fy/m*dt_modele\n",
    "\n",
    "while rep!='oui':\n",
    "    # Remise à 0 des listes du modèle des listes du modèle\n",
    "    x_modele=[]\n",
    "    y_modele=[]\n",
    "    vx_modele=[]\n",
    "    vy_modele=[]\n",
    "\n",
    "    # Conditions initiales\n",
    "    x_modele.append(x[0])\n",
    "    y_modele.append(y[0])\n",
    "    if rep == 'init':\n",
    "        vx_modele.append(v0x)\n",
    "        vy_modele.append(v0y)\n",
    "        print('Abscisse de la vitesse initiale en m/s (valeur expérimentale : ',v0x,' m/s ?')\n",
    "        print('Ordonnée de la vitesse initiale en m/s (valeur expérimentale : ',v0y,' m/s ?')\n",
    "    else:\n",
    "        print('Donner une valeur de l\\'abscisse de la vitesse initiale en m/s (valeur expérimentale : ',v0x,' m/s ?')\n",
    "        vx_modele.append(float(input('?')))\n",
    "        print('Donner une valeur de l\\'ordonnée de la vitesse initiale en m/s (valeur expérimentale : ',v0y,' m/s ?')\n",
    "        vy_modele.append(float(input('?')))\n",
    "\n",
    "    # Calcul des coordonnées de la position et de la vitesse\n",
    "    for i in range(0,N-1):\n",
    "        x_modele.append((vx_modele[i]*dt_modele)+x_modele[i])\n",
    "        y_modele.append((vy_modele[i]*dt_modele)+y_modele[i])\n",
    "        vx_modele.append(vx_modele[i]+dvx)\n",
    "        vy_modele.append(vy_modele[i]+dvy)\n",
    "\n",
    "    # Représentation de la trajectoire\n",
    "    plt.plot(x,y,'ro')\n",
    "    plt.plot(x_modele,y_modele,'g-')\n",
    "\n",
    "    # Configuration repère\n",
    "    plt.xlabel('Abscisse x (en m)')\n",
    "    plt.ylabel('Ordonnée y (en m)')\n",
    "    plt.axis('equal')\n",
    "    plt.legend(['position','modele'])\n",
    "    print('v0x=',vx_modele[0],' m/s')\n",
    "    print('v0y=',vy_modele[0],' m/s')\n",
    "    \n",
    "    # Montrer le graphique\n",
    "    plt.show()\n",
    "    \n",
    "    # Test de satisfaction\n",
    "    rep=input('Etes-vous satisfait de la mofélisation ? oui ou non ? ')\n",
    "    \n",
    "# Ecart à la valeur expérimentale\n",
    "print('Valeurs de la vitesse initiale du modèle : vx=',vx_modele[0],'  ;  vy=',vy_modele[0])\n",
    "print('Valeurs de la vitesse initiale expérimentale : vx=',v0x,'  ;  vy=',v0y)"
   ]
  },
  {
   "cell_type": "markdown",
   "metadata": {
    "cell_id": "00013-a3e8006d-3061-489f-8b9f-f7672096330c",
    "deepnote_cell_type": "markdown",
    "tags": []
   },
   "source": [
    "# Mesures et incertitudes\n",
    "Utilisation de la bibliothèque numpy pour les écart-type et l'incertitude"
   ]
  },
  {
   "cell_type": "code",
   "execution_count": null,
   "metadata": {
    "cell_id": "00016-a8746756-4b49-4d0b-9946-a9bfef70b81b",
    "deepnote_cell_type": "code",
    "deepnote_to_be_reexecuted": true,
    "execution_millis": 223,
    "execution_start": 1618912915624,
    "source_hash": "745e3944",
    "tags": []
   },
   "outputs": [
    {
     "name": "stdout",
     "output_type": "stream",
     "text": [
      "La série de mesures est:\n",
      "[7.2, 7.3, 7.0, 6.9, 7.1, 7.1, 7.4, 7.1, 7.3, 7.1, 7.2]\n",
      "l'incertitude sur chaque mesure est : u(x) =  0.1439696937805757\n",
      "La moyenne des mesures est : x_moy =  7.154545454545453\n",
      "L'incertitude sur la moyenne est : u(x) =  0.043408495950230275\n"
     ]
    },
    {
     "data": {
      "image/png": "[encoded data removed]",
      "text/plain": [
       "<Figure size 432x288 with 1 Axes>"
      ]
     },
     "metadata": {
      "image/png": {
       "height": 264,
       "width": 372
      },
      "needs_background": "light"
     },
     "output_type": "display_data"
    }
   ],
   "source": [
    "from matplotlib import pyplot as plt\n",
    "import numpy as np\n",
    "\n",
    "# La série de mesures\n",
    "x=[7.2,7.3,7.0,6.9,7.1,7.1,7.4,7.1,7.3,7.1,7.2]           # Les mesures sont dans une liste\n",
    "l=len(x)\n",
    "\n",
    "# Tracé du graphique histogramme\n",
    "pas=0.1             # définit la largeur d'un intervalle de l'histogramme\n",
    "amplitude=max(x)-min(x)         # Calcule l'amplitude de la série\n",
    "inter=np.linspace(min(x)-(pas/2),max(x)+(pas/2),round(amplitude/pas)+2) # génère la liste définissant des limites\n",
    "plt.hist(x,bins=inter,rwidth=0.8)              # trace l'histogramme des mesures\n",
    "\n",
    "# Calcul de la moyenne\n",
    "x_moy=np.mean(x)\n",
    "\n",
    "# Calcul de l'écart-type (divisé par racine de n-1\n",
    "ecart_type=np.std(x,ddof=1)\n",
    "\n",
    "# incertitude\n",
    "print('La série de mesures est:')\n",
    "print(x)\n",
    "print('l\\'incertitude sur chaque mesure est : u(x) = ',ecart_type)\n",
    "print('La moyenne des mesures est : x_moy = ',x_moy)\n",
    "print('L\\'incertitude sur la moyenne est : u(x) = ',ecart_type/np.sqrt(l))\n",
    "\n",
    "# Informations sur le graphique\n",
    "plt.title('Répartition des mesures')\n",
    "\n",
    "# Montrer le graphique\n",
    "plt.show()"
   ]
  },
  {
   "cell_type": "markdown",
   "metadata": {
    "cell_id": "00015-d14610a2-f14e-4254-9683-d1d58bfcbd4a",
    "deepnote_cell_type": "markdown",
    "tags": []
   },
   "source": [
    "# Quel vecteur veux-tu tracer ?"
   ]
  },
  {
   "cell_type": "code",
   "execution_count": null,
   "metadata": {
    "cell_id": "00016-24e7514a-5cea-4049-ae85-6e5c107e9672",
    "deepnote_cell_type": "code",
    "deepnote_to_be_reexecuted": true,
    "execution_millis": 5116,
    "execution_start": 1618927253498,
    "source_hash": "60e9b9d9",
    "tags": []
   },
   "outputs": [
    {
     "name": "stdout",
     "output_type": "stream",
     "text": [
      "Quel vecteur veux-tu tracer ?\n",
      "1- le vecteur déplacement.\n",
      "2- le vecteur vitesse.\n",
      "3- le vecteur variation de vitesse.\n",
      "4- le vecteur accélération.\n"
     ]
    },
    {
     "data": {
      "image/png": "[encoded data removed]",
      "text/plain": [
       "<Figure size 432x288 with 1 Axes>"
      ]
     },
     "metadata": {
      "image/png": {
       "height": 262,
       "width": 386
      },
      "needs_background": "light"
     },
     "output_type": "display_data"
    }
   ],
   "source": [
    "from matplotlib import pyplot as plt\n",
    "import numpy as np\n",
    "\n",
    "# coordonnées de M toutes les dt=0.040 s : M1, M2, M3...\n",
    "dt=0.04\n",
    "x=[0.1918, 0.2635, 0.3353, 0.4112, 0.4872, 0.5589, 0.6307, 0.6982, 0.7700, 0.8375, 0.9093, 0.9768, 1.0528, 1.1161, 1.1794, 1.2469, 1.3144, 1.3820, 1.4495, 1.5170, 1.5846, 1.6521, 1.7154, 1.7745]\n",
    "y=[0.3526, 0.5381, 0.7025, 0.8458, 0.9723, 1.0776, 1.1704, 1.2420, 1.3011, 1.3390, 1.3643, 1.3769, 1.3727, 1.3474, 1.3137, 1.2631, 1.1957, 1.1156, 1.0186, 0.9006, 0.7741, 0.6308, 0.4707, 0.2978]\n",
    "N=len(x)\n",
    "\n",
    "# Définition des listes\n",
    "dx=[]\n",
    "dy=[]\n",
    "vx=[]\n",
    "vy=[]\n",
    "dvx=[]\n",
    "dvy=[]\n",
    "ax=[]\n",
    "ay=[]\n",
    "\n",
    "# Calcul des coordonnées et tracé de vecteurs\n",
    "for i in range(0,N-1):\n",
    "    dx.append(x[i+1]-x[i])      # Calcule les abscisses du vecteur déplacement\n",
    "    dy.append(y[i+1]-y[i])      # Calcule les ordonnées du vecteur déplacement\n",
    "    vx.append(dx[i]/dt)         # Calcule les abscisses du vecteur vitesse\n",
    "    vy.append(dy[i]/dt)         # Calcule les ordonnées du vecteur vitesse\n",
    "    \n",
    "for i in range(0,N-2):\n",
    "    dvx.append(vx[i+1]-vx[i])      # Calcule les abscisses du vecteur variation de vitesse\n",
    "    dvy.append(vy[i+1]-vy[i])      # Calcule les ordonnées du vecteur variation de vitesse\n",
    "    ax.append(dvx[i]/dt)            # Calcule les abscisses du vecteur accélération\n",
    "    ay.append(dvy[i]/dt)            # Calcule les ordonnées du vecteur accélération\n",
    "    \n",
    "\n",
    "# Représentation des vecteurs\n",
    "print('Quel vecteur veux-tu tracer ?')\n",
    "print('1- le vecteur déplacement.')\n",
    "print('2- le vecteur vitesse.')\n",
    "print('3- le vecteur variation de vitesse.')\n",
    "print('4- le vecteur accélération.')\n",
    "rep=int(input('Ton choix est 1, 2, 3 ou 4 ?'))\n",
    "\n",
    "if rep==1 :\n",
    "    plt.quiver(x[0:-1],y[0:-1],dx,dy,scale=1,scale_units='xy',width=0.005,label='vecteur déplacement')\n",
    "elif rep==2:\n",
    "    plt.quiver(x[0:-1],y[0:-1],vx,vy,scale=10,color='b',width=0.002,label='vecteur vitesse') \n",
    "elif rep==3:\n",
    "    plt.quiver(x[0:-2],y[0:-2],dvx,dvy,scale=5,color='g',width=0.004,label='vecteur variation de vitesse')\n",
    "elif rep==4:\n",
    "    plt.quiver(x[0:-2],y[0:-2],ax,ay,scale=100,color='c',width=0.003,label='vecteur accélération')\n",
    "else:\n",
    "    print('La trajectoire sans vecteur')\n",
    "\n",
    "# Représentation de la trajectoire\n",
    "plt.plot(x,y,'ro',label='position')\n",
    "\n",
    "# Configuration repère\n",
    "plt.xlabel('Abscisse x (en m)')\n",
    "plt.ylabel('Ordonnée y (en m)')\n",
    "plt.axis('equal')\n",
    "plt.legend()\n",
    "\n",
    "# Montrer le graphique\n",
    "plt.show()"
   ]
  },
  {
   "cell_type": "markdown",
   "metadata": {
    "cell_id": "00025-2bc0addf-5562-4e6b-a937-79b759b7d805",
    "deepnote_cell_type": "markdown",
    "tags": []
   },
   "source": [
    "# Tracé des vecteurs - Encadrement"
   ]
  },
  {
   "cell_type": "code",
   "execution_count": null,
   "metadata": {
    "cell_id": "00026-ca00880b-4623-4c1f-9518-9fe3fc762078",
    "deepnote_cell_type": "code",
    "deepnote_to_be_reexecuted": false,
    "execution_millis": 458,
    "execution_start": 1619796575217,
    "source_hash": "dfe84492",
    "tags": []
   },
   "outputs": [
    {
     "data": {
      "image/png": "[encoded data removed]",
      "text/plain": [
       "<Figure size 432x288 with 1 Axes>"
      ]
     },
     "metadata": {
      "image/png": {
       "height": 248,
       "width": 372
      },
      "needs_background": "light"
     },
     "output_type": "display_data"
    }
   ],
   "source": [
    "from matplotlib import pyplot as plt\n",
    "\n",
    "# coordonnées de M toutes les dt=0.040 s : M1, M2, M3...\n",
    "dt=0.04\n",
    "x=[0.1918, 0.2635, 0.3353, 0.4112, 0.4872, 0.5589, 0.6307, 0.6982, 0.7700, 0.8375, 0.9093, 0.9768, 1.0528, 1.1161, 1.1794, 1.2469, 1.3144, 1.3820, 1.4495, 1.5170, 1.5846, 1.6521, 1.7154, 1.7745]\n",
    "y=[0.3526, 0.5381, 0.7025, 0.8458, 0.9723, 1.0776, 1.1704, 1.2420, 1.3011, 1.3390, 1.3643, 1.3769, 1.3727, 1.3474, 1.3137, 1.2631, 1.1957, 1.1156, 1.0186, 0.9006, 0.7741, 0.6308, 0.4707, 0.2978]\n",
    "\n",
    "# Détermination du nombre de mesures\n",
    "N=len(x)\n",
    "gy=-9.81\n",
    "\n",
    "# Définition des listes\n",
    "dx=[]\n",
    "dy=[]\n",
    "vx=[]\n",
    "vy=[]\n",
    "dvx=[]\n",
    "dvy=[]\n",
    "ax=[]\n",
    "ay=[]\n",
    "\n",
    "# Calcul des coordonnées et tracé de vecteurs\n",
    "for i in range(1,N-1):\n",
    "    dx.append(x[i+1]-x[i-1])      # Calcule les abscisses du déplacement entre Mi-1 et Mi+1\n",
    "    dy.append(y[i+1]-y[i-1])      # Calcule les ordonnées du déplacement\n",
    "    vx.append(dx[i-1]/(2*dt))         # Calcule les abscisses du vecteur vitesse\n",
    "    vy.append(dy[i-1]/(2*dt))         # Calcule les ordonnées du vecteur vitesse\n",
    "plt.quiver(x[1:-1],y[1:-1],vx,vy,scale=20,color='b',width=0.003)        # Trace les vecteurs vitesse\n",
    "for i in range(2,N-2):\n",
    "    dvx.append(vx[i]-vx[i-2])      # Calcule les abscisses du vecteur variation de vitesse\n",
    "    dvy.append(vy[i]-vy[i-2])      # Calcule les ordonnées du vecteur variation de vitesse\n",
    "    ax.append(dvx[i-2]/(2*dt))            # Calcule les abscisses du vecteur accélération\n",
    "    ay.append(dvy[i-2]/(2*dt))            # Calcule les ordonnées du vecteur accélération\n",
    "    plt.quiver(x[i],y[i],dvx[i-2],dvy[i-2],scale=10,color='g',width=0.005)       # Trace les vecteurs variation de vitesse\n",
    "    plt.quiver(x[i],y[i],ax[i-2],ay[i-2],scale=100,color='c',width=0.003)        # Trace les vecteurs accélération\n",
    "    plt.quiver(x[i],y[i],0,gy,scale=100,color='m',width=0.002)\n",
    "\n",
    "# Représentation de la trajectoire\n",
    "plt.plot(x,y,'ro')\n",
    "\n",
    "# Repère orthonormé\n",
    "plt.axis('equal')\n",
    "plt.legend(['position','vitesse','variationVitesse','accélration','g'])\n",
    "\n",
    "# Montrer le graphique\n",
    "plt.show()"
   ]
  },
  {
   "cell_type": "markdown",
   "metadata": {
    "cell_id": "00017-a480acae-e1e2-4851-a0ea-194fbc5a1918",
    "deepnote_cell_type": "markdown",
    "tags": []
   },
   "source": [
    "## Catégorie \"Module basique\"\n",
    "# Lire un fichier csv\n",
    "J'ai un soucis... Où mettre le fichier csv pour que ce notebook aille le chercher ?"
   ]
  },
  {
   "cell_type": "code",
   "execution_count": null,
   "metadata": {
    "cell_id": "00018-433868e9-4d13-49f9-a814-9f625c803e83",
    "deepnote_cell_type": "code",
    "deepnote_to_be_reexecuted": true,
    "execution_millis": 23,
    "execution_start": 1619097194978,
    "is_code_hidden": false,
    "source_hash": "5767345a",
    "tags": []
   },
   "outputs": [
    {
     "ename": "SyntaxError",
     "evalue": "(unicode error) 'unicodeescape' codec can't decode bytes in position 2-3: truncated \\UXXXXXXXX escape (<ipython-input-5-7f523d8e5747>, line 7)",
     "output_type": "error",
     "traceback": [
      "\u001b[0;36m  File \u001b[0;32m\"<ipython-input-5-7f523d8e5747>\"\u001b[0;36m, line \u001b[0;32m7\u001b[0m\n\u001b[0;31m    fichier = open(\"C:\\Users\\Terra\\Documents\\Documents\\Chute_libre_parabolique.csv\", \"r\")\u001b[0m\n\u001b[0m                  ^\u001b[0m\n\u001b[0;31mSyntaxError\u001b[0m\u001b[0;31m:\u001b[0m (unicode error) 'unicodeescape' codec can't decode bytes in position 2-3: truncated \\UXXXXXXXX escape\n"
     ]
    }
   ],
   "source": [
    "# Définition des listes\n",
    "t=[]     \n",
    "x=[]     \n",
    "y=[]\n",
    "\n",
    "# Lecture d'un fichier csv pour en faire une liste\n",
    "fichier = open(\"Chute_libre_parabolique.csv\", \"r\")\n",
    "fichier.readline()\n",
    "\n",
    "for ligne in fichier:\n",
    "    ligne_lue=ligne.split(';')\n",
    "    t.append(float(ligne_lue[0].replace(',','.')))\n",
    "    x.append(float(ligne_lue[1].replace(',','.')))\n",
    "    y.append(float(ligne_lue[2].replace(',','.')))\n",
    "\n",
    "# Affichage des listes\n",
    "print('premières valeurs des lignes: t = ',t)\n",
    "print('deuxièmes valeurs des lignes: x = ',x)\n",
    "print('troisièmes valeurs des lignes: y = ',y)"
   ]
  },
  {
   "cell_type": "code",
   "execution_count": null,
   "metadata": {
    "cell_id": "00023-805af02d-f8f4-4053-9045-12602a227470",
    "deepnote_cell_type": "code",
    "deepnote_to_be_reexecuted": true,
    "source_hash": "b623e53d",
    "tags": []
   },
   "outputs": [],
   "source": []
  },
  {
   "cell_type": "markdown",
   "metadata": {
    "cell_id": "00024-120dcb3c-dc71-44e7-b997-6d64786152d4",
    "deepnote_cell_type": "markdown",
    "tags": []
   },
   "source": [
    "# Fonction régression linéaire Y = a x\n",
    "## Fonction utilisant la méthode des moindres carrés\n"
   ]
  },
  {
   "cell_type": "code",
   "execution_count": null,
   "metadata": {
    "cell_id": "00025-0a7303ba-4c15-4c8b-be43-2aca22663cbe",
    "deepnote_cell_type": "code",
    "deepnote_to_be_reexecuted": true,
    "execution_millis": 223,
    "execution_start": 1619787470767,
    "source_hash": "22c70f0d",
    "tags": []
   },
   "outputs": [
    {
     "name": "stdout",
     "output_type": "stream",
     "text": [
      "Coefficient directeur : a = 1.5054545454545454\n",
      "Coefficient de corélation : r =  0.9924358084663428\n"
     ]
    },
    {
     "data": {
      "image/png": "[encoded data removed]",
      "text/plain": [
       "<Figure size 432x288 with 1 Axes>"
      ]
     },
     "metadata": {
      "image/png": {
       "height": 278,
       "width": 376
      },
      "needs_background": "light"
     },
     "output_type": "display_data"
    }
   ],
   "source": [
    "from matplotlib import pyplot as plt\n",
    "from scipy.stats import linregress\n",
    "import numpy as np\n",
    "\n",
    "# Les deux séries de valeurs\n",
    "x=[1,2,3,4,5]           # Les abscisses et les ordonnées sont dans des listes\n",
    "y=[1.5,3,4.2,6.3,7.5]   # le nombre de valeurs dans les listes est identique\n",
    "\n",
    "# définition d'une fonction\n",
    "def reglin(x, ro):\n",
    "    # Ajuste une droite d'équation a*x sur les points (x, y) par la méthode des moindres carrés.\n",
    "    # Return a,ro (float): pente de la droite passant par l'origine, coefficient de corélation\n",
    "       \n",
    "    # initialisation des sommes\n",
    "    x2_sum = 0.\n",
    "    xy_sum = 0.\n",
    "    y_sum = 0\n",
    "    \n",
    "    # calcul des sommes\n",
    "    for xi, yi in zip(x, y):    # zip combine plusieurs listes, chacune faisant sont itération\n",
    "        x2_sum += xi**2\n",
    "        xy_sum += xi * yi\n",
    "        y_sum += yi\n",
    "        \n",
    "    N = len(y)\n",
    "    y_moy=y_sum/N           # Calcul de la moyenne des y\n",
    "    a = xy_sum/x2_sum       # calcul de la pente\n",
    "\n",
    "    # calcul du coefficient de corélation ro\n",
    "    ecart_modele=0\n",
    "    ecart_moy=0\n",
    "    for xi, yi in zip(x, y):\n",
    "        ecart_modele += (yi-a*xi)**2\n",
    "        ecart_moy += (yi-y_moy)**2\n",
    "    ro=1-(ecart_modele/ecart_moy)\n",
    "    \n",
    "    # renvoi des parametres et fin de la définition de la fonction\n",
    "    return a,ro\n",
    "\n",
    "# détermination des coefficients en utilisant la fonction définie ci-dessus     \n",
    "a,ro=reglin(x,y)\n",
    "\n",
    "#Affichage des résultats\n",
    "print('Coefficient directeur : a =',a)\n",
    "print('Coefficient de corélation : r = ',ro)\n",
    "\n",
    "# Abscisses et ordonnées du modèle\n",
    "x_modele=np.linspace(0,max(x),101)     # permet de créer une liste de 101 valeurs d'abscisses\n",
    "y_modele=[a*i for i in x_modele]          # calcule l'ordonnée en appliquant le modèle\n",
    "\n",
    "# Tracer le graphique\n",
    "plt.plot(x,y,'r+')              # les couples de valeur sont représentés par des croix rouges\n",
    "plt.plot(x_modele,y_modele)     # par défaut les points sont liés par un segment de droite bleu\n",
    "\n",
    "# Informations sur le graphique\n",
    "plt.title('y en fonction de x') \n",
    "plt.xlabel('Liste x')        # légende de l'axe des abscisses\n",
    "plt.ylabel('liste y')        # légende de l'axe des ordonnées\n",
    "plt.legend(('y','modèle'))\n",
    "\n",
    "# Montrer le graphique\n",
    "plt.show()"
   ]
  },
  {
   "cell_type": "markdown",
   "metadata": {
    "cell_id": "00030-bb663307-f7df-4782-af83-991c7881b12f",
    "deepnote_cell_type": "markdown",
    "tags": []
   },
   "source": [
    "# Afficher un résultat avec son incertitude\n",
    "## Type A"
   ]
  },
  {
   "cell_type": "code",
   "execution_count": null,
   "metadata": {
    "cell_id": "00031-0dabbae6-d9d6-4138-8a00-ea75cf912673",
    "deepnote_cell_type": "code",
    "deepnote_to_be_reexecuted": false,
    "execution_millis": 1,
    "execution_start": 1619796338230,
    "source_hash": "682c91c2",
    "tags": []
   },
   "outputs": [
    {
     "name": "stdout",
     "output_type": "stream",
     "text": [
      "La série de mesures est:\n",
      "[12050.0, 11850.0, 11299.999999999998, 11399.999999999998, 11200.0, 11100.0, 10700.0, 10600.0, 10100.0, 10350.0, 11000.0]\n",
      "l'incertitude sur chaque mesure est : u(x) =  597.418689788904\n",
      "La moyenne des mesures est : x_moy =  11059.09090909091\n",
      "L'incertitude sur la moyenne est : u(x) =  180.12851243413832\n",
      "1.11E+04\n",
      "++++i= 0      a= 180.0\n",
      "++++i= 1      a= 18.0\n",
      "++++i= 2      a= 1.0\n",
      "++++i= 3      a= 0.0\n",
      "111E2 +/- 2E2\n"
     ]
    }
   ],
   "source": [
    "import numpy as np\n",
    "\n",
    "somme=0\n",
    "ecart=0\n",
    "\n",
    "# La série de mesures\n",
    "x=[0.1095,0.1075,0.1020,0.1030,0.1010,0.1000,0.096,0.095,0.090,0.0925,0.0990]           # Les mesures sont dans une liste\n",
    "\n",
    "N=len(x)\n",
    "\n",
    "for i in range(0,N):                             # Boucle pour changer l'ordre de grandeur des valeurs > 1 ou < 1\n",
    "    x[i]=100000*(x[i]+0.011)                     #  100000 ou 0.011 servent justent à faire bouger la série de mesure sans changer toutes les valeurs\n",
    "\n",
    "for i in range(0,N):\n",
    "    somme=somme+x[i]\n",
    "moyenne=somme/N\n",
    "for i in range(0,N):\n",
    "    ecart=ecart+(x[i]-moyenne)**2\n",
    "ecart_type=np.sqrt(ecart/(N-1))\n",
    "incertitude=ecart_type/np.sqrt(N)\n",
    "\n",
    "# incertitude\n",
    "print('La série de mesures est:')\n",
    "print(x)\n",
    "print('l\\'incertitude sur chaque mesure est : u(x) = ',ecart_type)\n",
    "print('La moyenne des mesures est : x_moy = ',moyenne)\n",
    "print('L\\'incertitude sur la moyenne est : u(x) = ',incertitude)\n",
    "print(format(moyenne,'.2E'))\n",
    "a=0\n",
    "i=-1\n",
    "if incertitude<1:\n",
    "    while a==0:\n",
    "        i=i+1\n",
    "        a=np.floor(incertitude*10**i)\n",
    "        print('i=',i,'     a=',a)\n",
    "    else:\n",
    "        b='.'+str(i)+'F'\n",
    "        print('x=',format(moyenne,b),' +/- ',format(incertitude,b))\n",
    "elif incertitude>1:\n",
    "    a=1\n",
    "    while a!=0:\n",
    "        i=i+1\n",
    "        a=np.floor(incertitude/10**i)\n",
    "        print('++++i=',i,'     a=',a)\n",
    "    else:\n",
    "        moyenne_tronque=int(round(moyenne/10**(i-1)))\n",
    "        incertitude_tronque=int(round(incertitude/10**(i-1)))\n",
    "        moyenne_affiche=str(moyenne_tronque)+'E'+str(i-1)\n",
    "        incertitude_affiche=str(incertitude_tronque)+'E'+str(i-1)       \n",
    "        print(moyenne_affiche,'+/-',incertitude_affiche)\n",
    "else:\n",
    "    print('u(x) = 1')\n",
    "    print('x=',round(moyenne),' +/- ',round(incertitude))"
   ]
  },
  {
   "cell_type": "markdown",
   "metadata": {
    "created_in_deepnote_cell": true,
    "deepnote_cell_type": "markdown",
    "tags": []
   },
   "source": [
    "<a style='text-decoration:none;line-height:16px;display:flex;color:#5B5B62;padding:10px;justify-content:end;' href='https://deepnote.com?utm_source=created-in-deepnote-cell&projectId=1a157346-8b10-4ee5-8d45-392bedec4e0b' target=\"_blank\">\n",
    "<img alt='Created in deepnote.com' style='display:inline;max-height:16px;margin:0px;margin-right:7.5px;' src='data:image/svg+xml;base64,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' > </img>\n",
    "Created in <span style='font-weight:600;margin-left:4px;'>Deepnote</span></a>"
   ]
  }
 ],
 "metadata": {
  "deepnote": {
   "is_reactive": false
  },
  "deepnoteSessionId": "dea8a0f5-35e3-4468-94eb-804ff5fc7baa",
  "deepnote_execution_queue": [],
  "deepnote_notebook_id": "0f460af1-1872-4aa4-804e-36716dbf15fd",
  "kernelspec": {
   "display_name": "Python 3",
   "language": "python",
   "name": "python3"
  },
  "language_info": {
   "codemirror_mode": {
    "name": "ipython",
    "version": 3
   },
   "file_extension": ".py",
   "mimetype": "text/x-python",
   "name": "python",
   "nbconvert_exporter": "python",
   "pygments_lexer": "ipython3",
   "version": "3.8.5"
  }
 },
 "nbformat": 4,
 "nbformat_minor": 2
}
