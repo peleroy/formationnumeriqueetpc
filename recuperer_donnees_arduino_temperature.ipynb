{
 "cells": [
  {
   "cell_type": "markdown",
   "metadata": {},
   "source": [
    "# Récupérer des données issues d'un module Arduino dans un programme Python\n",
    "L'idée proposée ici est [..]"
   ]
  },
  {
   "cell_type": "code",
   "execution_count": 2,
   "metadata": {},
   "outputs": [
    {
     "name": "stdout",
     "output_type": "stream",
     "text": [
      "1013 ms 21.2 °C\n",
      "3031 ms 21.2 °C\n",
      "5037 ms 21.2 °C\n",
      "7042 ms 21.2 °C\n",
      "9047 ms 21.2 °C\n",
      "11052 ms 21.2 °C\n",
      "13059 ms 21.2 °C\n",
      "15064 ms 21.2 °C\n",
      "17070 ms 21.2 °C\n",
      "19075 ms 21.2 °C\n",
      "21080 ms 21.2 °C\n",
      "23087 ms 21.3 °C\n",
      "25092 ms 21.2 °C\n",
      "27099 ms 21.2 °C\n",
      "29104 ms 21.2 °C\n",
      "31110 ms 21.3 °C\n",
      "33117 ms 21.2 °C\n",
      "35123 ms 21.3 °C\n",
      "37129 ms 21.2 °C\n",
      "39135 ms 21.2 °C\n",
      "41140 ms 21.2 °C\n",
      "43147 ms 21.2 °C\n",
      "45152 ms 21.2 °C\n",
      "47157 ms 21.3 °C\n",
      "49163 ms 23.7 °C\n",
      "51170 ms 24.6 °C\n",
      "53178 ms 22.9 °C\n",
      "55184 ms 22.3 °C\n",
      "57190 ms 22.0 °C\n",
      "59197 ms 21.8 °C\n"
     ]
    },
    {
     "data": {
      "image/png": "[encoded data removed]",
      "text/plain": [
       "<Figure size 432x288 with 1 Axes>"
      ]
     },
     "metadata": {
      "needs_background": "light"
     },
     "output_type": "display_data"
    }
   ],
   "source": [
    "import matplotlib.pyplot as plt # Pour le tracé des graphes\n",
    "import serial # Pour la liaison avec le module Arduino\n",
    "\n",
    "\n",
    "# Caractéristiques de l'acquisition\n",
    "duree=60 # Durée de l'acquisition, en s\n",
    "intervalle=2000 # Intervalle entre deux mesures, en ms, DOIT être identique dans le programme Arduino\n",
    "nb_points=int(duree*1000/intervalle) # Estimation du nombre de points nécessaires\n",
    "\n",
    "# Nom des fichiers de sauvegarde\n",
    "nomfichier='recuperer_donnees_arduino_temperature'\n",
    "\n",
    "# Ouverture du port série\n",
    "#ser=serial.Serial('COM3',9600)\n",
    "ser=serial.Serial('/dev/ttyACM0',9600)\n",
    "\n",
    "# Acquisition\n",
    "liste_t=[] # Création de la liste, vide\n",
    "liste_T=[] # Création de la liste, vide\n",
    "\n",
    "while len(liste_T)<nb_points:\n",
    "    try:\n",
    "        s=ser.readline().decode('utf8').split(' ') # Lecture de la ligne, décodage puis séparation des deux valeurs\n",
    "        liste_t.append(int(s[0])) # Remplissage de la liste des temps\n",
    "        liste_T.append(float(s[1])) # Remplissage de la liste des températures\n",
    "        print(int(s[0]),'ms',float(s[1]),'°C') # Affichage des valeurs dans la console (pour vérification)\n",
    "    except:\n",
    "        pass\n",
    "    \n",
    "# Fermeture du port série\n",
    "ser.close()\n",
    "\n",
    "# Repositionnement de l'origine des temps à t=0 s, et conversion les valeurs en seconde\n",
    "orig=liste_t[0] # La première valeur sera à soustraire à toutes les autres\n",
    "\n",
    "for i in range(len(liste_t)):\n",
    "    liste_t[i]=(liste_t[i]-orig)/1000\n",
    "\n",
    "# Sauvegarde des données dans un fichier extérieur (optionnel)\n",
    "fichier=open(nomfichier+'.csv','w')\n",
    "fichier.write('t(s)'+';'+'T (°C)'+'\\n') # Ecriture de la première ligne\n",
    "\n",
    "for i in range(len(liste_T)):\n",
    "    fichier.write(str(liste_t[i]).replace('.',',')+';'+str(liste_T[i]).replace('.',',')+'\\n') # Ecriture dans le fichier (on remplace le séparateur décimal au passage)\n",
    "\n",
    "fichier.close() # Fermeture du fichier de sauvegarde des données\n",
    "\n",
    "# Représentation graphique des points expérimentaux\n",
    "plt.figure(1)\n",
    "plt.plot(liste_t,liste_T,'r+')\n",
    "plt.xlabel('t (s)')\n",
    "plt.ylabel('Température (°C)')\n",
    "plt.title('T(t)')\n",
    "plt.savefig(nomfichier+'.png') # Sauvegarde de la figure au passage\n",
    "plt.show()\n"
   ]
  }
 ],
 "metadata": {
  "kernelspec": {
   "display_name": "Python 3",
   "language": "python",
   "name": "python3"
  },
  "language_info": {
   "codemirror_mode": {
    "name": "ipython",
    "version": 3
   },
   "file_extension": ".py",
   "mimetype": "text/x-python",
   "name": "python",
   "nbconvert_exporter": "python",
   "pygments_lexer": "ipython3",
   "version": "3.8.5"
  }
 },
 "nbformat": 4,
 "nbformat_minor": 4
}
