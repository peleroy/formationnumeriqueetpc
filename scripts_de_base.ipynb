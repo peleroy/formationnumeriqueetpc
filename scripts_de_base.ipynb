{
 "cells": [
  {
   "cell_type": "markdown",
   "metadata": {
    "cell_id": "3599f9d4-6666-4455-8015-de79af406f30",
    "deepnote_cell_type": "markdown"
   },
   "source": [
    "<font size=\"6\"><b>  Morceaux choisis de scripts Python </b></font>\n",
    "\n",
    "Voici une liste de scripts qui se veut être une sorte de bibliothèque d'exemples simples dans laquelle on vient piocher un bout de code lorsque la nécessité s'en fait ressentir.\n",
    "\n",
    "# Scripts basiques\n",
    "## Boucle for\n",
    "Voici 2 utilisations d'une boucle `for` sur l'exemple du calcul d'un écart type."
   ]
  },
  {
   "cell_type": "code",
   "execution_count": null,
   "metadata": {
    "cell_id": "00004-493d0a29-24bd-4c10-94b5-765409f16198",
    "deepnote_cell_type": "code",
    "deepnote_to_be_reexecuted": false,
    "execution_millis": 14,
    "execution_start": 1619794512438,
    "source_hash": "f2e16511",
    "tags": []
   },
   "outputs": [],
   "source": [
    "import numpy as np\n",
    "\n",
    "# Initialisation des variables\n",
    "somme=0\n",
    "ecart=0\n",
    "\n",
    "# La série de mesures\n",
    "x=[0.1095,0.1075,0.1020,0.1030,0.1010,0.1000,0.096,0.095,0.090,0.0925,0.0990] # Les mesures sont dans une liste\n",
    "N=len(x) # Calcule le nombre de valeurs de la liste\n",
    "\n",
    "# Boucle for avec utilisation de 'range' (ne pas oublier le ':')\n",
    "for i in range(0,N): # 'range' crée une liste de N valeurs entières entre 0 et N-1\n",
    "    somme=somme+x[i] # A chaque passage, on ajoute la ième valeur de la liste 'x' dans la variable 'somme'\n",
    "\n",
    "moyenne=somme/N # Une fois la boucle terminée, on calcule de la moyenne\n",
    "\n",
    "# Boucle for avec parcours d'une liste\n",
    "for valeur in x: # 'valeur' prendra successivement les valeurs de la liste 'x'\n",
    "    ecart=ecart+(valeur-moyenne)**2 # 'ecart+=(valeur-moyenne)**2' est une écriture équivalente\n",
    "\n",
    "ecart_type=np.sqrt(ecart/(N-1)) # Une fois la boucle terminée, on calcule l'écart type N-1\n",
    "incertitude=ecart_type/np.sqrt(N) # Calcul de l'incertitude sur la moyenne\n",
    "\n",
    "# Affichage des résultats\n",
    "print('La série de mesures est :')\n",
    "print(x)\n",
    "print('L\\'incertitude sur chaque mesure est : s_n-1(x) =',ecart_type)\n",
    "print('La moyenne des mesures est : x_moy =',moyenne)\n",
    "print('L\\'incertitude sur la moyenne est : u(x) =',incertitude)"
   ]
  },
  {
   "cell_type": "markdown",
   "metadata": {
    "cell_id": "00005-d35c2e78-393b-431c-9ead-c9b976236a13",
    "deepnote_cell_type": "markdown",
    "tags": []
   },
   "source": [
    "## Conditions\n",
    "Voici un exemple d'utilisation d'une condition sur un calcul très simple."
   ]
  },
  {
   "cell_type": "code",
   "execution_count": null,
   "metadata": {
    "cell_id": "00006-8a810304-ae63-4b2d-9ea2-b366a60431d6",
    "deepnote_cell_type": "code",
    "deepnote_to_be_reexecuted": false,
    "execution_millis": 14338,
    "execution_start": 1619794771997,
    "source_hash": "76c5c033",
    "tags": []
   },
   "outputs": [],
   "source": [
    "print('Propagation du son dans l\\'air')\n",
    "\n",
    "# Initialisation des variables\n",
    "vitesse=340\n",
    "reponse=''\n",
    "\n",
    "# Question posée\n",
    "print('Calcul de distance ou calcul de durée ? ')\n",
    "print('     - pour distance taper 1')\n",
    "print('     - pour durée taper 2')\n",
    "reponse=int(input('Votre choix ? '))\n",
    "\n",
    "# Condition\n",
    "if reponse==1 :\n",
    "    duree=float(input('Quelle est la durée en s ? '))\n",
    "    distance=vitesse*duree\n",
    "    print('La distance parcourue est :',distance,'m')\n",
    "elif reponse==2 :\n",
    "    distance=float(input('Quelle est la distance en m ?'))\n",
    "    duree=distance/vitesse\n",
    "    print('La durée de propagation est :',duree,'s')\n",
    "else :\n",
    "    print('Cette réponse ne fait pas partie des choix')"
   ]
  },
  {
   "cell_type": "markdown",
   "metadata": {
    "cell_id": "00002-0df66c94-ea46-4ad3-9cc3-aa0dc527689c",
    "deepnote_cell_type": "markdown",
    "tags": []
   },
   "source": [
    "## Tracer un graphique de type \"Nuage de points\"\n",
    "Exécutez la ligne suivante `%matplotlib notebook` avec par exemple la combinaison de touches `Ctrl+Entrée`, mais ne la notez pas dans un IDE Python, elle ne sert qu'à afficher les graphes dans cette page."
   ]
  },
  {
   "cell_type": "code",
   "execution_count": null,
   "metadata": {},
   "outputs": [],
   "source": [
    "%matplotlib notebook"
   ]
  },
  {
   "cell_type": "code",
   "execution_count": null,
   "metadata": {
    "cell_id": "00003-865e4ea9-c197-4244-9784-2c75f7d95c33",
    "deepnote_cell_type": "code",
    "deepnote_to_be_reexecuted": false,
    "execution_millis": 651,
    "execution_start": 1619794389525,
    "output_cleared": false,
    "source_hash": "31ce96ab",
    "tags": []
   },
   "outputs": [],
   "source": [
    "from matplotlib import pyplot as plt\n",
    "\n",
    "# Les deux séries de valeurs\n",
    "x=[1,2,3,4,5] # Les abscisses et les ordonnées sont dans des listes\n",
    "y=[1.5,3,4.2,6.3,7.5] # Les nombres de valeurs sont identiques\n",
    "z= [2,4,6,8,10]\n",
    "\n",
    "# Tracé du graphique\n",
    "plt.figure('Mon beau graphique') # Option : on peut donner un nom à la fenêtre graphique\n",
    "plt.plot(x,y,'r+',x,z,'bo') # Trace y=f(x) avec des croix rouges et z=f(x) avec des points bleus\n",
    "\n",
    "# Informations sur le graphique\n",
    "plt.title('y et z en fonction de x') # Titre du graphique\n",
    "plt.xlabel('Valeurs x') # Légende de l'axe des abscisses\n",
    "plt.ylabel('Ordonnées') # Légende de l'axe des ordonnées\n",
    "plt.legend(('z','y')) # Légende dans le graphique\n",
    "plt.xlim(0,6) # Impose des bornes aux abscisses\n",
    "plt.ylim(0,12) # Impose des bornes aux ordonnées\n",
    "\n",
    "# Possibilité d'ouvrir une deuxième fenêtre graphique\n",
    "plt.figure() # Ouverture d'une nouvelle fenêtre graphique\n",
    "plt.plot(y,z,'g-',label='z=f(y)') # Trace les points correspondant aux listes x et y, reliés, avec légende 'z=f(y)'\n",
    "plt.xlabel('Valeurs de y') # Légende de l'axe des abscisses\n",
    "plt.ylabel('Valeurs de z') # Légende de l'axe des ordonnées\n",
    "plt.legend() # Affiche la légende dans le graphique\n",
    "\n",
    "# Montrer le graphique\n",
    "plt.show()"
   ]
  },
  {
   "cell_type": "markdown",
   "metadata": {
    "cell_id": "00002-deca5c9b-1842-4191-aaf8-657b2b6e5b0d",
    "deepnote_cell_type": "markdown",
    "tags": []
   },
   "source": [
    "## Régression linéaire d'un nuage de points"
   ]
  },
  {
   "cell_type": "code",
   "execution_count": null,
   "metadata": {
    "cell_id": "0b9b7a2b-9e8b-458b-90e1-e03933d2c995",
    "deepnote_cell_type": "code",
    "deepnote_to_be_reexecuted": false,
    "execution_millis": 1765,
    "execution_start": 1619794390192,
    "output_cleared": false,
    "source_hash": "422d24f5",
    "tags": []
   },
   "outputs": [],
   "source": [
    "from matplotlib import pyplot as plt\n",
    "from scipy.stats import linregress\n",
    "import numpy as np\n",
    "\n",
    "# Les deux séries de valeurs\n",
    "x=[1,2,3,4,5] # Les abscisses et les ordonnées sont dans des listes\n",
    "y=[1.5,3,4.2,6.3,7.5] # Le nombre de valeurs dans les listes est identique\n",
    "\n",
    "# Détermination des coefficients      \n",
    "a,b,ro,_,_=linregress(x,y)\n",
    "\n",
    "#Affichage des résultats\n",
    "print('Coefficient directeur : a =',a)\n",
    "print('Ordonnée à l\\'origine : b =',b)\n",
    "print('Coefficient de corrélation : r =',ro)\n",
    "\n",
    "# Abscisses et ordonnées du modèle\n",
    "x_modele=np.linspace(min(x),max(x),101) # Permet de créer une liste de 101 valeurs d'abscisses\n",
    "y_modele=[a*i+b for i in x_modele] # Crée une liste de valeurs d'ordonnées en appliquant le modèle\n",
    "\n",
    "# Tracer le graphique\n",
    "plt.figure()\n",
    "plt.plot(x,y,'r+') # Les couples de valeur sont représentés par des croix rouges\n",
    "plt.plot(x_modele,y_modele) # Par défaut les points sont liés par des segments bleus\n",
    "\n",
    "# Informations sur le graphique\n",
    "plt.title('y en fonction de x') \n",
    "plt.xlabel('Valeurs de x') # Légende de l'axe des abscisses\n",
    "plt.ylabel('Valeurs de y') # Légende de l'axe des ordonnées\n",
    "plt.legend(('y','Modèle'))\n",
    "\n",
    "# Montrer le graphique\n",
    "plt.show()"
   ]
  },
  {
   "cell_type": "markdown",
   "metadata": {
    "cell_id": "00007-0a00b8cf-4870-4bd8-b69d-ff910098f2ae",
    "deepnote_cell_type": "markdown",
    "tags": []
   },
   "source": [
    "## Ajustement selon une fonction particulière\n",
    "\n",
    "On a récupéré les mesures au cours d'un TP de chimie de l'absorbance d'une solution pour différentes concentrations.\n",
    "\n",
    "| Absorbance    | 0,20 | 0,60  | 0,68 | 0,83 | 1,10 |\n",
    "| --------------|:----:| -----:|-----:|-----:|-----:|\n",
    "| C (mol/L)     | 1,2.10<sup>-4</sup> |  3,6.10<sup>-4</sup> |4,1.10<sup>-4</sup> |5,0.10<sup>-4</sup> |6,5.10<sup>-4</sup> |\n",
    "\n",
    "\n",
    "On souhaite réaliser un ajustement de type **linéaire** $y=k \\cdot x$ (et non affine en $y=a \\cdot x+b$ comme l'exemple précédent)."
   ]
  },
  {
   "cell_type": "code",
   "execution_count": null,
   "metadata": {
    "cell_id": "00003-681d0d25-075a-47a4-8838-92897c171f94",
    "deepnote_cell_type": "code",
    "deepnote_to_be_reexecuted": false,
    "execution_millis": 277,
    "execution_start": 1619794391952,
    "source_hash": "9983c4a9",
    "tags": []
   },
   "outputs": [],
   "source": [
    "import scipy.optimize as so # Pour la fonction 'linpace'\n",
    "\n",
    "def fct(x,k):\n",
    "        return k*x\n",
    "\n",
    "C=[1.2e-4,3.6e-4,4.1e-4,5.0e-4,6.5e-4]\n",
    "A=[0.2,0.6,0.68,0.83,1.1]\n",
    "\n",
    "co_dir,_=so.curve_fit(fct,C,A) # 'co_dir' sera une liste d'une seule valeur, celle du seul paramètre du modèle : k\n",
    "\n",
    "#Affichage des résultats\n",
    "print('Coefficient directeur : k =',co_dir[0])\n",
    "\n",
    "# Représentation graphique\n",
    "A_modele=[co_dir[0]*i for i in C]\n",
    "\n",
    "plt.figure()\n",
    "plt.plot(C,A,'r+',C,A_modele,'b-')\n",
    "plt.title(\"Représentation de l'absorbance de la solution en fonction de la concentration\")\n",
    "plt.xlabel('C (mol/L)')\n",
    "plt.ylabel('A')\n",
    "plt.legend(('Points expérimentaux','Modèle'))\n",
    "plt.show()"
   ]
  },
  {
   "cell_type": "markdown",
   "metadata": {
    "cell_id": "00001-3e946f1a-fd43-4d13-a48b-112a3fb4c9c7",
    "deepnote_cell_type": "markdown",
    "tags": []
   },
   "source": [
    "## Tracer un histogramme\n",
    "Exemple : tracer l'histogramme d'une série de mesures."
   ]
  },
  {
   "cell_type": "code",
   "execution_count": null,
   "metadata": {
    "cell_id": "00002-8c5976c0-9ea0-4f67-8274-8709d91b69ea",
    "deepnote_cell_type": "code",
    "deepnote_to_be_reexecuted": false,
    "execution_millis": 1054,
    "execution_start": 1619794388463,
    "source_hash": "bc4e0eb4",
    "tags": []
   },
   "outputs": [],
   "source": [
    "import matplotlib.pyplot as plt\n",
    "import numpy as np\n",
    "\n",
    "# La série de mesures\n",
    "x=[7.2,7.3,7.0,6.9,7.1,7.1,7.4,7.1,7.3,7.1,7.2] # Les mesures sont dans une liste\n",
    "\n",
    "# Tracé du graphique histogramme\n",
    "pas=0.1 # Définit la largeur d'un intervalle de l'histogramme\n",
    "amplitude=max(x)-min(x) # Calcule l'amplitude de la série\n",
    "inter=np.linspace(min(x)-(pas/2),max(x)+(pas/2),round(amplitude/pas)+2) # Génère les limites des intervalles\n",
    "plt.figure()\n",
    "plt.hist(x,bins=inter,rwidth=0.8) # Trace l'histogramme des mesures\n",
    "\n",
    "# Remarque : si on appelle \"pas\" la largeur d'un intervalle de l'histogramme :\n",
    "#       le nombre d'intervalle est (amplitude/pas)+1 \n",
    "#       le nombre de limites des intersalles est (amplitude/pas)+2\n",
    "\n",
    "# Informations sur le graphique\n",
    "plt.title('Répartition des mesures')\n",
    "\n",
    "# Montrer le graphique\n",
    "plt.show()"
   ]
  },
  {
   "cell_type": "markdown",
   "metadata": {
    "cell_id": "00008-7c122cf5-2961-4841-9ebd-b6d36e894ee8",
    "deepnote_cell_type": "markdown",
    "tags": []
   },
   "source": [
    "## Vecteurs en mécanique"
   ]
  },
  {
   "cell_type": "code",
   "execution_count": null,
   "metadata": {
    "cell_id": "00009-5e27a784-04a9-4cbf-9139-0acc2462e51c",
    "deepnote_cell_type": "code",
    "deepnote_to_be_reexecuted": true,
    "execution_millis": 262,
    "source_hash": "29a0b3",
    "tags": []
   },
   "outputs": [],
   "source": [
    "from matplotlib import pyplot as plt\n",
    "\n",
    "# Coordonnées de M toutes les dt=0.040 s : M1, M2, M3...\n",
    "dt=0.04\n",
    "x=[0.1918, 0.2635, 0.3353, 0.4112, 0.4872, 0.5589, 0.6307, 0.6982, 0.7700, 0.8375, 0.9093, 0.9768, 1.0528, 1.1161, 1.1794, 1.2469, 1.3144, 1.3820, 1.4495, 1.5170, 1.5846, 1.6521, 1.7154, 1.7745]\n",
    "y=[0.3526, 0.5381, 0.7025, 0.8458, 0.9723, 1.0776, 1.1704, 1.2420, 1.3011, 1.3390, 1.3643, 1.3769, 1.3727, 1.3474, 1.3137, 1.2631, 1.1957, 1.1156, 1.0186, 0.9006, 0.7741, 0.6308, 0.4707, 0.2978]\n",
    "\n",
    "# Représentation de la trajectoire\n",
    "plt.figure()\n",
    "plt.plot(x,y,'ro')\n",
    "\n",
    "# Représentation du vecteur déplacement M2M3\n",
    "dx=x[2]-x[1] # Calcule les coordonnées de M2M3\n",
    "dy=y[2]-y[1] # L'indice de la première valeur d'une liste est 0, M1 a par exemple pour coordonnées (x[0],y[0])\n",
    "plt.quiver(x[1],y[1],dx,dy,scale=1,scale_units='xy')# L'échelle ('scale') de représentation est celle des axes\n",
    "\n",
    "# Représentation du vecteur vitesse v10=M10M11/dt\n",
    "vx=(x[10]-x[9])/dt # Calcule les coordonnées de v10\n",
    "vy=(y[10]-y[9])/dt\n",
    "plt.quiver(x[9],y[9],vx,vy,scale=10,color='b') # L'échelle de représentation est alors de 1/10ème\n",
    "\n",
    "# Représentation du vecteur variation de vitesse dv18=v19-v18\n",
    "dvx=(((x[19]-x[18])/dt)-(x[18]-x[17])/dt) # Calcule les coordonnées de dv18\n",
    "dvy=(((y[19]-y[18])/dt)-(y[18]-y[17])/dt)\n",
    "plt.quiver(x[17],y[17],dvx,dvy,scale=5,color='g',width=0.002) # On peut ajuster l'épaisseur ('width')\n",
    "\n",
    "# Représentation du vecteur accélération a5 = dv5/dt\n",
    "ax=(((x[6]-x[5])/dt)-(x[5]-x[4])/dt)/dt # Calcule les coordonnées de a5\n",
    "ay=(((y[6]-y[5])/dt)-(y[5]-y[4])/dt)/dt\n",
    "plt.quiver(x[4],y[4],ax,ay,scale=50,color='c',width=0.005)\n",
    "\n",
    "# Repère orthonormé\n",
    "plt.axis('equal')\n",
    "\n",
    "# Montrer le graphique\n",
    "plt.show()"
   ]
  },
  {
   "cell_type": "markdown",
   "metadata": {
    "cell_id": "00015-461914ac-571b-4899-8930-0b5c923741c1",
    "deepnote_cell_type": "markdown",
    "tags": []
   },
   "source": [
    "## Lecture d'un fichier CSV\n",
    "Le fichier en `.csv` doit être mis dans le même répertoire que le programme."
   ]
  },
  {
   "cell_type": "code",
   "execution_count": null,
   "metadata": {
    "cell_id": "00016-5a0c2ee6-cefb-4f5e-b56e-9c1ec770c95e",
    "deepnote_cell_type": "code",
    "deepnote_to_be_reexecuted": false,
    "execution_millis": 11,
    "execution_start": 1619795377997,
    "source_hash": "dde27473",
    "tags": []
   },
   "outputs": [],
   "source": [
    "# Définition des listes\n",
    "t=[]\n",
    "x=[]\n",
    "y=[]\n",
    "\n",
    "# Lecture d'un fichier CSV pour en faire une liste de valeurs\n",
    "#- le ficher csv est dans le même dossier que le programme\n",
    "#- la première ligne du fichier contient les intitulés de chaque colonne ; ici \"t (s);x (m);y (m)\"\n",
    "#- de la deuxième à la dernière ligne, on trouve les valeurs des grandeurs séparés par des ;'\n",
    "#- le contenu des lignes est considéré comme du texte\n",
    "\n",
    "with open('trajectoire_vitesse_acceleration.csv','r') as fichier:\n",
    "    fichier.readline() # On lit la première ligne de fichier et on n'en fait rien (intitulés non utilisés)\n",
    "    for ligne in fichier: # A chaque passage, 'ligne' prend la valeur de la nouvelle ligne de fichier\n",
    "        ligne_lue=ligne.split(';') # 'ligne_lue' est une liste des valeurs de la variable ligne séparées par ';'\n",
    "        t.append(float(ligne_lue[0].replace(',','.'))) # 'append' signifie qu'on ajoute à la liste 't'\n",
    "        x.append(float(ligne_lue[1].replace(',','.'))) # 'replace' change la ',' par un '.'\n",
    "        y.append(float(ligne_lue[2].replace(',','.'))) # 'float' transforme la chaine de caractères en nombre à virgule\n",
    "\n",
    "# Affichage des listes\n",
    "print('Premières valeurs des lignes : t =',t,'\\n') #'\\n' permet d'aller à la ligne\n",
    "print('Deuxièmes valeurs des lignes : x =',x,'\\n')\n",
    "print('Troisièmes valeurs des lignes : y =',y,'\\n')"
   ]
  },
  {
   "cell_type": "markdown",
   "metadata": {
    "cell_id": "00013-936ca98e-db9d-4eef-a284-c29f9747bb1f",
    "deepnote_cell_type": "markdown",
    "tags": []
   },
   "source": [
    "## Les fonctions\n",
    "Les fonctions peuvent rendre le code plus lisible... ou pas ! Nous les utiliserons uniquement lorsu'elles apportent une plus-value, de lisibilité ou pour condenser le code."
   ]
  },
  {
   "cell_type": "code",
   "execution_count": null,
   "metadata": {
    "cell_id": "00014-e22e058c-0632-47c1-ade4-09b9300616d9",
    "deepnote_cell_type": "code",
    "deepnote_to_be_reexecuted": true,
    "execution_millis": 33,
    "execution_start": 1619794202900,
    "source_hash": "dd1a18b4",
    "tags": []
   },
   "outputs": [],
   "source": [
    "import numpy as np\n",
    "\n",
    "def moy_incert(x): # Retourne la valeur moyenne d'une mesure et son incertitude\n",
    "    somme=0\n",
    "    ecart=0\n",
    "    N=len(x)                            # Calcule le nombre de valeurs de la liste\n",
    "    for i in range(0,N):                # Boucle de calcul de la somme des valeurs\n",
    "        somme+=x[i]\n",
    "    moyenne=somme/N                     # Calcule la moyenne\n",
    "    for valeur in x:                    # Boucle de calcul de la somme des carrés des écarts\n",
    "        ecart+=(valeur-moyenne)**2\n",
    "    ecart_type=np.sqrt(ecart/(N-1))     # Calcule l'écart type N-1\n",
    "    incertitude=ecart_type/np.sqrt(N)   # Calcule l'incertitude sur la moyenne \n",
    "    return moyenne,incertitude          # Renvoie les paramètres\n",
    "    \n",
    "# La série de mesures\n",
    "x=[0.1095,0.1075,0.1020,0.1030,0.1010,0.1000,0.096,0.095,0.090,0.0925,0.0990] # Les mesures sont dans une liste\n",
    "\n",
    "# Utilisation de la fonction définie précédemment\n",
    "x_moy,u_x=moy_incert(x)\n",
    "\n",
    "# Affichage des résultats\n",
    "print('La moyenne des mesures est : x_moy = ',x_moy)\n",
    "print('L\\'incertitude sur la moyenne est : u(x) = ',u_x)"
   ]
  },
  {
   "cell_type": "markdown",
   "metadata": {
    "cell_id": "00010-7de697b3-3a38-4afe-85f9-24bde077a68c",
    "deepnote_cell_type": "markdown",
    "tags": []
   },
   "source": [
    "# Mécanique et simulation\n",
    "## De l'avantage de la méthode i/i+1"
   ]
  },
  {
   "cell_type": "code",
   "execution_count": null,
   "metadata": {
    "cell_id": "00011-44722023-656e-44ad-b1eb-51c398296a58",
    "deepnote_cell_type": "code",
    "deepnote_to_be_reexecuted": true,
    "execution_millis": 58601,
    "source_hash": "aa236f70",
    "tags": []
   },
   "outputs": [],
   "source": [
    "from matplotlib import pyplot as plt\n",
    "\n",
    "# Coordonnées expérimentales de la balle toutes les dt=0.040 s : M1, M2, M3...\n",
    "dt=0.04\n",
    "x=[0.1918, 0.2635, 0.3353, 0.4112, 0.4872, 0.5589, 0.6307, 0.6982, 0.7700, 0.8375, 0.9093, 0.9768, 1.0528, 1.1161, 1.1794, 1.2469, 1.3144, 1.3820, 1.4495, 1.5170, 1.5846, 1.6521, 1.7154, 1.7745]\n",
    "y=[0.3526, 0.5381, 0.7025, 0.8458, 0.9723, 1.0776, 1.1704, 1.2420, 1.3011, 1.3390, 1.3643, 1.3769, 1.3727, 1.3474, 1.3137, 1.2631, 1.1957, 1.1156, 1.0186, 0.9006, 0.7741, 0.6308, 0.4707, 0.2978]\n",
    "\n",
    "# Conditions expérimentales\n",
    "gx=0 # On modélise sans action mécanique de frottement\n",
    "gy=-9.81\n",
    "m=0.058\n",
    "\n",
    "# Conditions initiales\n",
    "v0x=(x[1]-x[0])/dt\n",
    "v0y=(y[1]-y[0])/dt\n",
    "rep='init'\n",
    "\n",
    "# Pas du modèle\n",
    "dt_modele=dt/100000 # Le pas du modèle est 100 000 fois plus petit que le pas expérimental\n",
    "N=int(dt/dt_modele)*(len(x)) # N sera le nombre de boucles à réaliser par le modèle\n",
    "\n",
    "# Action mécanique constante\n",
    "Fx=m*gx\n",
    "Fy=m*gy\n",
    "\n",
    "# Variation de vitesse constante du modèle (loi de Newton)\n",
    "dvx=Fx/m*dt_modele\n",
    "dvy=Fy/m*dt_modele\n",
    "\n",
    "while rep!='oui':\n",
    "    # Remise à 0 des listes du modèle des listes du modèle\n",
    "    x_modele=[]\n",
    "    y_modele=[]\n",
    "    vx_modele=[]\n",
    "    vy_modele=[]\n",
    "\n",
    "    # Conditions initiales\n",
    "    x_modele.append(x[0])\n",
    "    y_modele.append(y[0])\n",
    "    if rep=='init':\n",
    "        vx_modele.append(v0x)\n",
    "        vy_modele.append(v0y)\n",
    "        print('Abscisse de la vitesse initiale en m/s (valeur expérimentale :',v0x,'m/s ? ')\n",
    "        print('Ordonnée de la vitesse initiale en m/s (valeur expérimentale :',v0y,'m/s ? ')\n",
    "    else:\n",
    "        print('Donner une valeur de l\\'abscisse de la vitesse initiale en m/s (valeur expérimentale :',v0x,'m/s ? ')\n",
    "        vx_modele.append(float(input('? ')))\n",
    "        print('Donner une valeur de l\\'ordonnée de la vitesse initiale en m/s (valeur expérimentale :',v0y,'m/s ? ')\n",
    "        vy_modele.append(float(input('? ')))\n",
    "\n",
    "    # Calcul des coordonnées de la position et de la vitesse\n",
    "    for i in range(0,N-1):\n",
    "        x_modele.append((vx_modele[i]*dt_modele)+x_modele[i])\n",
    "        y_modele.append((vy_modele[i]*dt_modele)+y_modele[i])\n",
    "        vx_modele.append(vx_modele[i]+dvx)\n",
    "        vy_modele.append(vy_modele[i]+dvy)\n",
    "\n",
    "    # Représentation de la trajectoire\n",
    "    plt.figure()\n",
    "    plt.plot(x,y,'ro')\n",
    "    plt.plot(x_modele,y_modele,'g-')\n",
    "\n",
    "    # Configuration du repère\n",
    "    plt.xlabel('Abscisse x (en m)')\n",
    "    plt.ylabel('Ordonnée y (en m)')\n",
    "    plt.axis('equal')\n",
    "    plt.legend(('Position','Modèle'),loc='best')\n",
    "    print('v0x=',vx_modele[0],'m/s')\n",
    "    print('v0y=',vy_modele[0],'m/s')\n",
    "    \n",
    "    # Montrer le graphique\n",
    "    plt.show()\n",
    "    \n",
    "    # Test de satisfaction\n",
    "    rep=input('Etes-vous satisfait de la modélisation ? oui ou non ? ')\n",
    "\n",
    "# Ecart à la valeur expérimentale\n",
    "print('Valeurs de la vitesse initiale du modèle : vx=',vx_modele[0],' ; vy=',vy_modele[0])\n",
    "print('Valeurs de la vitesse initiale expérimentale : vx=',v0x,' ; vy=',v0y)"
   ]
  },
  {
   "cell_type": "markdown",
   "metadata": {
    "cell_id": "00015-d14610a2-f14e-4254-9683-d1d58bfcbd4a",
    "deepnote_cell_type": "markdown",
    "tags": []
   },
   "source": [
    "## Quel vecteur veux-tu tracer ?"
   ]
  },
  {
   "cell_type": "code",
   "execution_count": null,
   "metadata": {
    "cell_id": "00016-24e7514a-5cea-4049-ae85-6e5c107e9672",
    "deepnote_cell_type": "code",
    "deepnote_to_be_reexecuted": true,
    "execution_millis": 5116,
    "execution_start": 1618927253498,
    "source_hash": "60e9b9d9",
    "tags": []
   },
   "outputs": [],
   "source": [
    "from matplotlib import pyplot as plt\n",
    "import numpy as np\n",
    "\n",
    "# Coordonnées de M toutes les dt=0.040 s : M1, M2, M3...\n",
    "dt=0.04\n",
    "x=[0.1918, 0.2635, 0.3353, 0.4112, 0.4872, 0.5589, 0.6307, 0.6982, 0.7700, 0.8375, 0.9093, 0.9768, 1.0528, 1.1161, 1.1794, 1.2469, 1.3144, 1.3820, 1.4495, 1.5170, 1.5846, 1.6521, 1.7154, 1.7745]\n",
    "y=[0.3526, 0.5381, 0.7025, 0.8458, 0.9723, 1.0776, 1.1704, 1.2420, 1.3011, 1.3390, 1.3643, 1.3769, 1.3727, 1.3474, 1.3137, 1.2631, 1.1957, 1.1156, 1.0186, 0.9006, 0.7741, 0.6308, 0.4707, 0.2978]\n",
    "N=len(x)\n",
    "\n",
    "# Définition des listes\n",
    "dx=[]\n",
    "dy=[]\n",
    "vx=[]\n",
    "vy=[]\n",
    "dvx=[]\n",
    "dvy=[]\n",
    "ax=[]\n",
    "ay=[]\n",
    "\n",
    "# Calcul des coordonnées et tracé de vecteurs\n",
    "for i in range(0,N-1):\n",
    "    dx.append(x[i+1]-x[i])      # Calcule les abscisses du vecteur déplacement\n",
    "    dy.append(y[i+1]-y[i])      # Calcule les ordonnées du vecteur déplacement\n",
    "    vx.append(dx[i]/dt)         # Calcule les abscisses du vecteur vitesse\n",
    "    vy.append(dy[i]/dt)         # Calcule les ordonnées du vecteur vitesse\n",
    "    \n",
    "for i in range(0,N-2):\n",
    "    dvx.append(vx[i+1]-vx[i])   # Calcule les abscisses du vecteur variation de vitesse\n",
    "    dvy.append(vy[i+1]-vy[i])   # Calcule les ordonnées du vecteur variation de vitesse\n",
    "    ax.append(dvx[i]/dt)        # Calcule les abscisses du vecteur accélération\n",
    "    ay.append(dvy[i]/dt)        # Calcule les ordonnées du vecteur accélération\n",
    "    \n",
    "\n",
    "# Représentation des vecteurs\n",
    "print('Quel vecteur veux-tu tracer ?')\n",
    "print('1- le vecteur déplacement')\n",
    "print('2- le vecteur vitesse')\n",
    "print('3- le vecteur variation de vitesse')\n",
    "print('4- le vecteur accélération')\n",
    "rep=int(input('Ton choix est 1, 2, 3 ou 4 ?'))\n",
    "\n",
    "if rep==1 :\n",
    "    plt.quiver(x[0:-1],y[0:-1],dx,dy,scale=1,scale_units='xy',width=0.005,label='Vecteur déplacement')\n",
    "elif rep==2:\n",
    "    plt.quiver(x[0:-1],y[0:-1],vx,vy,scale=10,color='b',width=0.002,label='Vecteur vitesse') \n",
    "elif rep==3:\n",
    "    plt.quiver(x[0:-2],y[0:-2],dvx,dvy,scale=5,color='g',width=0.004,label='Vecteur variation de vitesse')\n",
    "elif rep==4:\n",
    "    plt.quiver(x[0:-2],y[0:-2],ax,ay,scale=100,color='c',width=0.003,label='Vecteur accélération')\n",
    "else:\n",
    "    print('La trajectoire sans vecteur...')\n",
    "\n",
    "# Représentation de la trajectoire\n",
    "plt.figure()\n",
    "plt.plot(x,y,'ro',label='Position')\n",
    "\n",
    "# Configuration repère\n",
    "plt.xlabel('Abscisse x (en m)')\n",
    "plt.ylabel('Ordonnée y (en m)')\n",
    "plt.axis('equal')\n",
    "plt.legend()\n",
    "\n",
    "# Montrer le graphique\n",
    "plt.show()"
   ]
  },
  {
   "cell_type": "markdown",
   "metadata": {
    "cell_id": "00025-2bc0addf-5562-4e6b-a937-79b759b7d805",
    "deepnote_cell_type": "markdown",
    "tags": []
   },
   "source": [
    "## Encadrement i+1/i-1"
   ]
  },
  {
   "cell_type": "code",
   "execution_count": null,
   "metadata": {
    "cell_id": "00026-ca00880b-4623-4c1f-9518-9fe3fc762078",
    "deepnote_cell_type": "code",
    "deepnote_to_be_reexecuted": false,
    "execution_millis": 458,
    "execution_start": 1619796575217,
    "source_hash": "dfe84492",
    "tags": []
   },
   "outputs": [],
   "source": [
    "from matplotlib import pyplot as plt\n",
    "\n",
    "# Coordonnées de M toutes les dt=0.040 s : M1, M2, M3...\n",
    "dt=0.04\n",
    "x=[0.1918, 0.2635, 0.3353, 0.4112, 0.4872, 0.5589, 0.6307, 0.6982, 0.7700, 0.8375, 0.9093, 0.9768, 1.0528, 1.1161, 1.1794, 1.2469, 1.3144, 1.3820, 1.4495, 1.5170, 1.5846, 1.6521, 1.7154, 1.7745]\n",
    "y=[0.3526, 0.5381, 0.7025, 0.8458, 0.9723, 1.0776, 1.1704, 1.2420, 1.3011, 1.3390, 1.3643, 1.3769, 1.3727, 1.3474, 1.3137, 1.2631, 1.1957, 1.1156, 1.0186, 0.9006, 0.7741, 0.6308, 0.4707, 0.2978]\n",
    "\n",
    "# Détermination du nombre de mesures\n",
    "N=len(x)\n",
    "gy=-9.81\n",
    "\n",
    "# Définition des listes\n",
    "dx=[]\n",
    "dy=[]\n",
    "vx=[]\n",
    "vy=[]\n",
    "dvx=[]\n",
    "dvy=[]\n",
    "ax=[]\n",
    "ay=[]\n",
    "\n",
    "# Calcul des coordonnées et tracé de vecteurs\n",
    "for i in range(1,N-1):\n",
    "    dx.append(x[i+1]-x[i-1])      # Calcule les abscisses du déplacement entre Mi-1 et Mi+1\n",
    "    dy.append(y[i+1]-y[i-1])      # Calcule les ordonnées du déplacement\n",
    "    vx.append(dx[i-1]/(2*dt))     # Calcule les abscisses du vecteur vitesse\n",
    "    vy.append(dy[i-1]/(2*dt))     # Calcule les ordonnées du vecteur vitesse\n",
    "\n",
    "plt.quiver(x[1:-1],y[1:-1],vx,vy,scale=20,color='b',width=0.003) # Trace les vecteurs vitesse\n",
    "\n",
    "for i in range(2,N-2):\n",
    "    dvx.append(vx[i]-vx[i-2])     # Calcule les abscisses du vecteur variation de vitesse\n",
    "    dvy.append(vy[i]-vy[i-2])     # Calcule les ordonnées du vecteur variation de vitesse\n",
    "    ax.append(dvx[i-2]/(2*dt))    # Calcule les abscisses du vecteur accélération\n",
    "    ay.append(dvy[i-2]/(2*dt))    # Calcule les ordonnées du vecteur accélération\n",
    "    plt.quiver(x[i],y[i],dvx[i-2],dvy[i-2],scale=10,color='g',width=0.005) # Trace les vecteurs variation de vitesse\n",
    "    plt.quiver(x[i],y[i],ax[i-2],ay[i-2],scale=100,color='c',width=0.003)  # Trace les vecteurs accélération\n",
    "    plt.quiver(x[i],y[i],0,gy,scale=100,color='m',width=0.002)\n",
    "\n",
    "# Représentation de la trajectoire\n",
    "plt.figure()\n",
    "plt.plot(x,y,'ro')\n",
    "\n",
    "# Repère orthonormé\n",
    "plt.axis('equal')\n",
    "plt.legend(('Position','Vitesse','Variation de vitesse','Accélération','g'))\n",
    "\n",
    "# Montrer le graphique\n",
    "plt.show()"
   ]
  },
  {
   "cell_type": "markdown",
   "metadata": {
    "cell_id": "00013-a3e8006d-3061-489f-8b9f-f7672096330c",
    "deepnote_cell_type": "markdown",
    "tags": []
   },
   "source": [
    "# Mesures et incertitudes\n",
    "Utilisation de la bibliothèque numpy pour les écart-types et l'incertitude..."
   ]
  },
  {
   "cell_type": "code",
   "execution_count": null,
   "metadata": {
    "cell_id": "00016-a8746756-4b49-4d0b-9946-a9bfef70b81b",
    "deepnote_cell_type": "code",
    "deepnote_to_be_reexecuted": true,
    "execution_millis": 223,
    "execution_start": 1618912915624,
    "source_hash": "745e3944",
    "tags": []
   },
   "outputs": [],
   "source": [
    "from matplotlib import pyplot as plt\n",
    "import numpy as np\n",
    "\n",
    "# La série de mesures\n",
    "x=[7.2,7.3,7.0,6.9,7.1,7.1,7.4,7.1,7.3,7.1,7.2] # Les mesures sont dans une liste\n",
    "l=len(x)\n",
    "\n",
    "# Tracé du graphique histogramme\n",
    "pas=0.1 # Définit la largeur d'un intervalle de l'histogramme\n",
    "amplitude=max(x)-min(x) # Calcule l'amplitude de la série\n",
    "inter=np.linspace(min(x)-(pas/2),max(x)+(pas/2),round(amplitude/pas)+2) # Génère la liste définissant des limites\n",
    "plt.figure()\n",
    "plt.hist(x,bins=inter,rwidth=0.8) # Trace l'histogramme des mesures\n",
    "\n",
    "# Calcul de la moyenne\n",
    "x_moy=np.mean(x)\n",
    "\n",
    "# Calcul de l'écart-type (divisé par racine de n-1)\n",
    "ecart_type=np.std(x,ddof=1)\n",
    "\n",
    "# Incertitude\n",
    "print('La série de mesures est :')\n",
    "print(x)\n",
    "print('l\\'incertitude sur chaque mesure est : u(x)=',ecart_type)\n",
    "print('La moyenne des mesures est : x_moy=',x_moy)\n",
    "print('L\\'incertitude sur la moyenne est : u(x)=',ecart_type/np.sqrt(l))\n",
    "\n",
    "# Informations sur le graphique\n",
    "plt.title('Répartition des mesures')\n",
    "\n",
    "# Montrer le graphique\n",
    "plt.show()"
   ]
  }
 ],
 "metadata": {
  "deepnote": {
   "is_reactive": false
  },
  "deepnoteSessionId": "dea8a0f5-35e3-4468-94eb-804ff5fc7baa",
  "deepnote_execution_queue": [],
  "deepnote_notebook_id": "0f460af1-1872-4aa4-804e-36716dbf15fd",
  "kernelspec": {
   "display_name": "Python 3",
   "language": "python",
   "name": "python3"
  },
  "language_info": {
   "codemirror_mode": {
    "name": "ipython",
    "version": 3
   },
   "file_extension": ".py",
   "mimetype": "text/x-python",
   "name": "python",
   "nbconvert_exporter": "python",
   "pygments_lexer": "ipython3",
   "version": "3.8.10"
  }
 },
 "nbformat": 4,
 "nbformat_minor": 2
}
